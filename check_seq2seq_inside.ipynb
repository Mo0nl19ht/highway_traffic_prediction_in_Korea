{
 "cells": [
  {
   "cell_type": "code",
   "execution_count": 1,
   "metadata": {},
   "outputs": [],
   "source": [
    "import numpy as np\n",
    "import matplotlib.pyplot as plt\n",
    "\n",
    "import tensorflow as tf\n",
    "from tensorflow import keras\n",
    "from tensorflow.keras import layers, metrics\n",
    "\n",
    "import io\n",
    "import imageio\n",
    "from IPython.display import Image, display\n",
    "from ipywidgets import widgets, Layout, HBox\n",
    "from PIL import Image\n",
    "from tqdm import tqdm\n",
    "import os\n",
    "import math\n",
    "\n",
    "from scipy import stats\n",
    "\n",
    "from sklearn.metrics import mean_squared_error, mean_absolute_percentage_error,mean_absolute_error\n",
    "\n",
    "class ConvLSTMCell(tf.keras.Model):\n",
    "    def __init__(self, hidden_dim, kernel_size, bias):\n",
    "        super(ConvLSTMCell, self).__init__()\n",
    "        self.hidden_dim = (hidden_dim)\n",
    "        \n",
    "        self.kernel_size = kernel_size\n",
    "        self.bias = bias\n",
    "        \n",
    "        self.conv = tf.keras.layers.Conv2D(\n",
    "            filters = 4 * self.hidden_dim,\n",
    "            kernel_size = self.kernel_size,\n",
    "            padding = 'same',\n",
    "            use_bias = self.bias\n",
    "        )\n",
    "        \n",
    "    def call(self, input_tensor, cur_state):\n",
    "        h_cur, c_cur = cur_state\n",
    "        combined = tf.concat([input_tensor, h_cur], axis=3)\n",
    "        combined_conv = self.conv(combined)\n",
    "        cc_i, cc_f, cc_o, cc_g = tf.split(combined_conv, num_or_size_splits=4, axis=-1)\n",
    "        i = tf.keras.activations.sigmoid(cc_i)\n",
    "        f = tf.keras.activations.sigmoid(cc_f)\n",
    "        o = tf.keras.activations.sigmoid(cc_o)\n",
    "        g = tf.keras.activations.tanh(cc_g)\n",
    "        \n",
    "        c_next = f*c_cur+i*g\n",
    "        h_next = o*tf.keras.activations.tanh(c_next)\n",
    "        \n",
    "        return h_next, c_next\n",
    "        \n",
    "    def init_hidden(self, batch_size, image_size):\n",
    "        height, width = image_size\n",
    "        # print(\"@@@\")\n",
    "        # print(batch_size, height, width, self.hidden_dim)\n",
    "        # print(\"@@@\")\n",
    "        return (tf.zeros([batch_size, height, width, self.hidden_dim]),\n",
    "                tf.zeros([batch_size, height, width, self.hidden_dim]))\n",
    "\n",
    "class Encoder(tf.keras.Model):\n",
    "    def __init__(self, hidden, enc_num_layers=1):\n",
    "        super(Encoder, self).__init__()\n",
    "        self.enc_num_layers = enc_num_layers\n",
    "        self.encoder_input_convlstm = ConvLSTMCell(\n",
    "            hidden_dim=hidden,\n",
    "            kernel_size=(3, 3),\n",
    "            bias=True\n",
    "        )\n",
    "        if self.enc_num_layers is not None:\n",
    "            self.hidden_encoder_layers = [\n",
    "                ConvLSTMCell(\n",
    "                    hidden_dim=hidden,\n",
    "                    kernel_size=(3, 3),\n",
    "                    bias=True\n",
    "                ) for _ in range(self.enc_num_layers)\n",
    "            ]\n",
    "        \n",
    "    def call(self, enc_input):\n",
    "        h_t, c_t = self.init_hidden(enc_input, 'seq')\n",
    "        if self.enc_num_layers is not None:\n",
    "            hidden_h_t = []\n",
    "            hidden_c_t = []\n",
    "            for i in range(self.enc_num_layers):\n",
    "                hidden_h_t += [self.init_hidden(h_t, i)[0]]\n",
    "                hidden_c_t += [self.init_hidden(h_t, i)[1]]\n",
    "        \n",
    "        seq_len = enc_input.shape[1]\n",
    "        for t in range(seq_len):\n",
    "            h_t, c_t = self.encoder_input_convlstm(\n",
    "                input_tensor=enc_input[:, t, :, :, :],\n",
    "                cur_state=[h_t, c_t]\n",
    "            )\n",
    "            input_tensor = h_t\n",
    "            if self.enc_num_layers is not None:\n",
    "                for i in range(self.enc_num_layers):\n",
    "                    hidden_h_t[i], hidden_c_t[i] = self.hidden_encoder_layers[i](\n",
    "                        input_tensor=input_tensor,\n",
    "                        cur_state=[hidden_h_t[i], hidden_c_t[i]]\n",
    "                    )\n",
    "                    input_tensor = hidden_h_t[i]\n",
    "        \n",
    "        if self.enc_num_layers is not None:\n",
    "            return hidden_h_t[-1], hidden_c_t[-1]\n",
    "        else:\n",
    "            return h_t, c_t\n",
    "    \n",
    "    def init_hidden(self, input_tensor, seq):\n",
    "        if seq == 'seq':\n",
    "            b, seq_len, h, w, _ = input_tensor.shape\n",
    "            h_t, c_t = self.encoder_input_convlstm.init_hidden(\n",
    "                batch_size=b,\n",
    "                image_size=(h, w)\n",
    "            )\n",
    "        else:\n",
    "            b, h, w, _ = input_tensor.shape\n",
    "            h_t, c_t = self.hidden_encoder_layers[seq].init_hidden(\n",
    "                batch_size=b,\n",
    "                image_size=(h, w)\n",
    "            )\n",
    "        return h_t, c_t\n",
    "\n",
    "class Decoder(tf.keras.Model):\n",
    "    def __init__(self, hidden, dec_num_layers=1, future_len=7):\n",
    "        super(Decoder, self).__init__()\n",
    "        self.dec_num_layers = dec_num_layers\n",
    "        self.future_len = future_len\n",
    "        self.decoder_input_convlstm = ConvLSTMCell(\n",
    "            hidden_dim=hidden,\n",
    "            kernel_size=(3, 3),\n",
    "            bias=True\n",
    "        )\n",
    "        if self.dec_num_layers is not None:\n",
    "            self.hidden_decoder_layers = [\n",
    "                ConvLSTMCell(\n",
    "                    hidden_dim=hidden,\n",
    "                    kernel_size=(3, 3),\n",
    "                    bias=True\n",
    "                ) for _ in range(dec_num_layers)\n",
    "            ]\n",
    "        \n",
    "        self.decoder_output_layer = tf.keras.layers.Conv2D(\n",
    "            filters=1,\n",
    "            kernel_size=(3,3),\n",
    "            padding='same',\n",
    "            activation='sigmoid'\n",
    "        )\n",
    "        \n",
    "    def call(self, enc_output):\n",
    "        if self.dec_num_layers is not None:\n",
    "            hidden_h_t = []\n",
    "            hidden_c_t = []\n",
    "            for i in range(self.dec_num_layers):\n",
    "                hidden_h_t += [self.init_hidden(enc_output[0], i)[0]]\n",
    "                hidden_c_t += [self.init_hidden(enc_output[0], i)[1]]\n",
    "                \n",
    "        outputs = []\n",
    "        input_tensor = enc_output[0]\n",
    "        h_t, c_t = self.init_hidden(input_tensor, 'seq')\n",
    "        for t in range(self.future_len):\n",
    "            h_t, c_t=self.decoder_input_convlstm(\n",
    "                input_tensor=input_tensor,\n",
    "                cur_state=[h_t, c_t]\n",
    "            )\n",
    "            input_tensor = h_t\n",
    "            if self.dec_num_layers is not None:\n",
    "                for i in range(self.dec_num_layers):\n",
    "                    hidden_h_t[i], hidden_c_t[i] = self.hidden_decoder_layers[i](\n",
    "                        input_tensor=input_tensor,\n",
    "                        cur_state=[hidden_h_t[i], hidden_c_t[i]]\n",
    "                    )\n",
    "                    input_tensor=hidden_h_t[i]\n",
    "                output = self.decoder_output_layer(hidden_h_t[-1])\n",
    "            else:\n",
    "                output = self.decoder_output_layer(h_t)\n",
    "            outputs += [output]\n",
    "        outputs = tf.stack(outputs, 1)\n",
    "        \n",
    "        return outputs\n",
    "    \n",
    "    def init_hidden(self, input_tensor, seq):\n",
    "        if seq == 'seq':\n",
    "            b, h, w, _ = input_tensor.shape\n",
    "            h_t, c_t = self.decoder_input_convlstm.init_hidden(\n",
    "                batch_size=b,\n",
    "                image_size=(h, w)\n",
    "            )\n",
    "        else:\n",
    "            b, h, w, _ = input_tensor.shape\n",
    "            h_t, c_t = self.hidden_decoder_layers[seq].init_hidden(\n",
    "                batch_size=b,\n",
    "                image_size=(h, w)\n",
    "            )\n",
    "        return h_t, c_t\n",
    "\n",
    "class Seq2Seq(tf.keras.Model):\n",
    "    def __init__(self, hidden, enc_num_layers=1, dec_num_layers=1):\n",
    "        super(Seq2Seq, self).__init__()\n",
    "        self.encoder = Encoder(hidden, enc_num_layers)\n",
    "        self.decoder = Decoder(hidden, dec_num_layers)\n",
    "        \n",
    "    def call(self, enc_input):\n",
    "        enc_output = self.encoder(enc_input)\n",
    "        dec_output = self.decoder(enc_output)\n",
    "        \n",
    "        return dec_output\n",
    "\n",
    "\n",
    "\n",
    "\n",
    "def show(x_test,target,idx,model):\n",
    "    a=np.expand_dims(x_test[target+idx], axis=0)\n",
    "    prd=model.predict(a)\n",
    "    aa=[]\n",
    "    for b in prd[0][-1]:\n",
    "        bb=[]\n",
    "        for c in b:\n",
    "            bb.append([c,c,c])\n",
    "        aa.append(bb)\n",
    "    aa=np.array(aa)[:,:,:,0]\n",
    "    if idx==0:\n",
    "        predict=np.expand_dims(aa,axis=0)\n",
    "    else:\n",
    "        predict = np.concatenate((predict, np.expand_dims(aa,axis=0)), axis=0)\n",
    "def MAPE(y_test, y_pred,vervose=1):\n",
    "    # print(y_test.shape, y_pred.shape)\n",
    "    all=(zip(y_test,y_pred))\n",
    "    \n",
    "    cnt=0\n",
    "    cost=0\n",
    "    up=0\n",
    "    down=0\n",
    "    for t,p in all:#t로나눠\n",
    "        if t==0:\n",
    "            # c=np.abs(t-p) / p\n",
    "            continue\n",
    "        else:\n",
    "            c=np.abs(t-p) / t\n",
    "            cnt+=1\n",
    "            cost+=c\n",
    "            # if c>0.5:\n",
    "            #     if t> 40:\n",
    "            #         up+=1\n",
    "            #     else:\n",
    "            #         down+=1\n",
    "            # if c>0.2:\n",
    "            #     print(t)\n",
    "    if vervose==1:\n",
    "        print(f\"up: {up}  down : {down}\")\n",
    "    return cost/cnt*100\n",
    "\n",
    "\n",
    "def compute_metrics(original,predict,start,end):\n",
    "    start-=1\n",
    "    end-=1\n",
    "    y=original[:,start:end,:,:]\n",
    "    y_pred=predict[:,start:end,:,:]\n",
    "    \n",
    "    # mape=MAPE(y.reshape(-1,),y_pred.reshape(-1,))\n",
    "    y=(y)*100\n",
    "    y_pred=(y_pred)*100\n",
    "\n",
    "    y_flatten=y.flatten()\n",
    "    y_pred_flatten=y_pred.flatten()\n",
    "\n",
    "    mape=MAPE(y_flatten,y_pred_flatten,0)\n",
    "\n",
    "    mse=mean_squared_error(y_flatten,y_pred_flatten)\n",
    "    mae=mean_absolute_error(y_flatten,y_pred_flatten)\n",
    "    p_val=stats.chisquare(y_flatten,y_pred_flatten)[1]\n",
    "    return np.array([mse,mape,mae])\n",
    "\n",
    "\n",
    "\n",
    "def metrics_(y,y_pred):\n",
    "    \n",
    "    y=(y)*100\n",
    "    y_pred=(y_pred)*100\n",
    "\n",
    "    y_flatten=y.flatten()\n",
    "    y_pred_flatten=y_pred.flatten()\n",
    "\n",
    "\n",
    "    mape=MAPE(y_flatten,y_pred_flatten)\n",
    "    mse=mean_squared_error(y_flatten,y_pred_flatten)\n",
    "    mae=mean_absolute_error(y_flatten,y_pred_flatten)\n",
    "    return [mse,mape,mae]\n",
    "\n",
    "def metrics_jam(y,y_pred):\n",
    "    \n",
    "    y=(y)*100\n",
    "    y_pred=(y_pred)*100\n",
    "    # 속도 40이하만 필터링\n",
    "    y_filtered=y[y <40]\n",
    "    y_pred_filtered=y_pred[y < 40]\n",
    "\n",
    "    \n",
    "    mape=MAPE(y_filtered,y_pred_filtered)\n",
    "    mse=mean_squared_error(y_filtered,y_pred_filtered)\n",
    "    mae=mean_absolute_error(y_filtered,y_pred_filtered)\n",
    "    return [mse,mape,mae]\n",
    "\n",
    "def _predict(models,i, x_test ,target):\n",
    "    for idx in range(7):\n",
    "        a=np.expand_dims(x_test[target+idx], axis=0)\n",
    "        #1 7 24 31 1\n",
    "        prd=models[i](a)\n",
    "\n",
    "        #gray에서 이미지보여주려고 ch3만듬\n",
    "        all=[]\n",
    "        #예측된거 마지막꺼만 가져옴\n",
    "        for img in prd[0][-1]:\n",
    "            pixel=[]\n",
    "            for gray in img:\n",
    "                pixel.append([gray,gray,gray])\n",
    "            all.append(pixel)\n",
    "        all=np.array(all)[:,:,:,0]\n",
    "    \n",
    "        if idx==0:\n",
    "            predict=np.expand_dims(all,axis=0)\n",
    "        else:\n",
    "            predict = np.concatenate((predict, np.expand_dims(all,axis=0)), axis=0)\n",
    "    return predict\n",
    "\n",
    "\n",
    "\n",
    "def make_predict(models, model_num, x_test ,target,original):\n",
    "    predicts=[]\n",
    "    for i in range(model_num):\n",
    "    \n",
    "        predict=_predict(models,i,x_test,target)\n",
    "        print()\n",
    "        print(f\"{i}번째\")\n",
    "        print(\"속도 전체 에러율\")\n",
    "        mse,mape,mae=metrics_(original[:,:,:,0],predict[:,:,:,0])\n",
    "        print(f\"rmse : {np.sqrt(mse)} , mape : {mape} , mae : {mae}\")\n",
    "        # print(\"속도 40이하 에러율\")\n",
    "        # mse,mape,mae=metrics_jam(original[:,:,:,0],predict[:,:,:,0])\n",
    "        # print(f\"rmse : {np.sqrt(mse)} , mape : {mape} , mae : {mae}\")\n",
    "\n",
    "        #모든 모델 확인하기 위해 리스트에 저장\n",
    "        predicts.append(predict)\n",
    "    return predicts\n"
   ]
  },
  {
   "cell_type": "markdown",
   "metadata": {},
   "source": [
    "# test all 2020"
   ]
  },
  {
   "cell_type": "code",
   "execution_count": 2,
   "metadata": {},
   "outputs": [
    {
     "name": "stdout",
     "output_type": "stream",
     "text": [
      "WARNING:tensorflow:AutoGraph could not transform <bound method Encoder.call of <__main__.Encoder object at 0x0000029C4852EB20>> and will run it as-is.\n",
      "Please report this to the TensorFlow team. When filing the bug, set the verbosity to 10 (on Linux, `export AUTOGRAPH_VERBOSITY=10`) and attach the full output.\n",
      "Cause: module 'gast' has no attribute 'Index'\n",
      "To silence this warning, decorate the function with @tf.autograph.experimental.do_not_convert\n",
      "WARNING: AutoGraph could not transform <bound method Encoder.call of <__main__.Encoder object at 0x0000029C4852EB20>> and will run it as-is.\n",
      "Please report this to the TensorFlow team. When filing the bug, set the verbosity to 10 (on Linux, `export AUTOGRAPH_VERBOSITY=10`) and attach the full output.\n",
      "Cause: module 'gast' has no attribute 'Index'\n",
      "To silence this warning, decorate the function with @tf.autograph.experimental.do_not_convert\n",
      "WARNING:tensorflow:AutoGraph could not transform <bound method Decoder.call of <__main__.Decoder object at 0x0000029C60D6CFD0>> and will run it as-is.\n",
      "Please report this to the TensorFlow team. When filing the bug, set the verbosity to 10 (on Linux, `export AUTOGRAPH_VERBOSITY=10`) and attach the full output.\n",
      "Cause: module 'gast' has no attribute 'Index'\n",
      "To silence this warning, decorate the function with @tf.autograph.experimental.do_not_convert\n",
      "WARNING: AutoGraph could not transform <bound method Decoder.call of <__main__.Decoder object at 0x0000029C60D6CFD0>> and will run it as-is.\n",
      "Please report this to the TensorFlow team. When filing the bug, set the verbosity to 10 (on Linux, `export AUTOGRAPH_VERBOSITY=10`) and attach the full output.\n",
      "Cause: module 'gast' has no attribute 'Index'\n",
      "To silence this warning, decorate the function with @tf.autograph.experimental.do_not_convert\n"
     ]
    }
   ],
   "source": [
    "path=\"D:/npz_gray_7_64_fix\"\n",
    "\n",
    "\n",
    "models=[]\n",
    "\n",
    "tf.keras.backend.set_floatx('float32')\n",
    "\n",
    "model = Seq2Seq(16, 4, 4)\n",
    "model.build(input_shape=(1,7,24,31,1))\n",
    "model.load_weights(\"seq2seq_inside_64_0.0006_mse_4_600_0.1.h5\")\n",
    "models.append(model)\n",
    "\n",
    "# model2 = Seq2Seq(16, 4, 4)\n",
    "# model2.build(input_shape=(1,7,24,31,1))\n",
    "# model2.load_weights(\"seq2seq_KangByeon_64_0.0006_mse_4_3000_0.1.h5\")\n",
    "# models.append(model2)\n",
    "\n",
    "# model3 = Seq2Seq(16, 4, 4)\n",
    "# model3.build(input_shape=(1,7,24,31,1))\n",
    "# model3.load_weights(\"seq2seq_KangByeon_64_lay5_0.005_mse_4_600_0.3.h5\")\n",
    "# models.append(model3)\n",
    "\n",
    "# model4 = Seq2Seq(16, 4, 4)\n",
    "# model4.build(input_shape=(1,7,24,31,1))\n",
    "# model4.load_weights(\"seq2seq_KangByeon_64_0.001_mse_4_1000_0.1.h5\")\n",
    "# models.append(model4)\n"
   ]
  },
  {
   "cell_type": "code",
   "execution_count": 3,
   "metadata": {},
   "outputs": [
    {
     "name": "stdout",
     "output_type": "stream",
     "text": [
      "WARNING:tensorflow:Layer seq2_seq is casting an input tensor from dtype float64 to the layer's dtype of float32, which is new behavior in TensorFlow 2.  The layer has dtype float32 because its dtype defaults to floatx.\n",
      "\n",
      "If you intended to run this layer in float32, you can safely ignore this warning. If in doubt, this warning is likely only an issue if you are porting a TensorFlow 1.X model to TensorFlow 2.\n",
      "\n",
      "To change all layers to have dtype float64 by default, call `tf.keras.backend.set_floatx('float64')`. To change just this layer, pass dtype='float64' to the layer constructor. If you are the author of this layer, you can disable autocasting by passing autocast=False to the base Layer constructor.\n",
      "\n",
      "\n",
      "0번째\n",
      "속도 전체 에러율\n",
      "up: 0  down : 0\n",
      "rmse : 6.885656052020255 , mape : 9.17694171937334 , mae : 4.259574187546074\n"
     ]
    },
    {
     "data": {
      "image/png": "[encoded data removed]",
      "text/plain": [
       "<Figure size 1440x720 with 14 Axes>"
      ]
     },
     "metadata": {
      "needs_background": "light"
     },
     "output_type": "display_data"
    }
   ],
   "source": [
    "# 모든 모델 훈련시킨걸로 확인하기\n",
    "x_test = np.load(f\"{path}/batch/x/3.npz\")['x']\n",
    "target=2 # \n",
    "originals=[]\n",
    "predicts=[]\n",
    "\n",
    "model_num=len(models)\n",
    "\n",
    "#원본데이터\n",
    "original=x_test[target+7]\n",
    "\n",
    "all=[]\n",
    "for img in original:\n",
    "    # print(a.shape)\n",
    "    one_img=[]\n",
    "    for pixels in img:\n",
    "        pixel=[]\n",
    "        for gray in pixels:\n",
    "            pixel.append([gray,gray,gray])\n",
    "        one_img.append(pixel)\n",
    "    all.append(one_img)\n",
    "original=np.array(all)[:,:,:,:,0]\n",
    "\n",
    "predicts=make_predict(models, model_num, x_test ,target,original)\n",
    "\n",
    "\n",
    "fig, axes = plt.subplots(model_num+1, 7, figsize=(20, 10))\n",
    "# Plot the original frames.\n",
    "for idx, ax in enumerate(axes[0]):\n",
    "    #inverse여서 1에서 빼준다\n",
    "    ax.imshow((original[idx]))\n",
    "    ax.set_title(f\"Original Frame {idx}\")\n",
    "    ax.axis(\"off\")\n",
    "\n",
    "for i in range(model_num):\n",
    "    for idx, ax in enumerate(axes[i+1]):\n",
    "        ax.imshow(predicts[i][idx])\n",
    "        ax.set_title(f\"Predicted Frame {idx}\")\n",
    "        ax.axis(\"off\")\n",
    "\n"
   ]
  },
  {
   "cell_type": "code",
   "execution_count": 9,
   "metadata": {},
   "outputs": [
    {
     "name": "stdout",
     "output_type": "stream",
     "text": [
      "\n",
      "0번째\n",
      "속도 전체 에러율\n",
      "up: 0  down : 0\n",
      "rmse : 5.98861221014797 , mape : 6.964979157197071 , mae : 3.810278868840601\n"
     ]
    },
    {
     "data": {
      "image/png": "[encoded data removed]",
      "text/plain": [
       "<Figure size 1440x720 with 14 Axes>"
      ]
     },
     "metadata": {
      "needs_background": "light"
     },
     "output_type": "display_data"
    }
   ],
   "source": [
    "# 모든 모델 새로운데이터로 확인하기\n",
    "\n",
    "x_test = np.load(f\"{path}/2020/4.npz\")['arr_0']\n",
    "target=1 # \n",
    "originals=[]\n",
    "predicts=[]\n",
    "model_num=len(models)\n",
    "\n",
    "#원본데이터\n",
    "original=x_test[target+7]\n",
    "\n",
    "all=[]\n",
    "for img in original:\n",
    "    # print(a.shape)\n",
    "    one_img=[]\n",
    "    for pixels in img:\n",
    "        pixel=[]\n",
    "        for gray in pixels:\n",
    "            pixel.append([gray,gray,gray])\n",
    "        one_img.append(pixel)\n",
    "    all.append(one_img)\n",
    "original=np.array(all)[:,:,:,:,0]\n",
    "\n",
    "predicts=make_predict(models, model_num, x_test ,target,original)\n",
    "\n",
    "\n",
    "fig, axes = plt.subplots(model_num+1, 7, figsize=(20, 10))\n",
    "\n",
    "# Plot the original frames.\n",
    "for idx, ax in enumerate(axes[0]):\n",
    "    ax.imshow(original[idx])\n",
    "    ax.set_title(f\"Original Frame {idx}\")\n",
    "    ax.axis(\"off\")\n",
    "\n",
    "for i in range(model_num):\n",
    "    for idx, ax in enumerate(axes[i+1]):\n",
    "        ax.imshow(predicts[i][idx])\n",
    "        ax.set_title(f\"Predicted Frame {idx}\")\n",
    "        ax.axis(\"off\")\n"
   ]
  },
  {
   "cell_type": "code",
   "execution_count": 7,
   "metadata": {},
   "outputs": [],
   "source": [
    "# 2020년 (훈련안시킨거) 모든거 예측하고 매트릭 확인\n",
    "batch_size=32\n",
    "win=7\n",
    "total=[]\n",
    "for k in range(len(models)):\n",
    "    before_list=[]\n",
    "    after_list=[]\n",
    "    peak_list=[]\n",
    "    rest_list=[]\n",
    "    # for i in tqdm(list):\n",
    "    x_test = np.load(f\"{path}/2020/4.npz\")['arr_0']\n",
    "    for target in range(batch_size-win+1):\n",
    "\n",
    "\n",
    "        predict=_predict(models,k,x_test,target)\n",
    "        \n",
    "        \n",
    "        original=x_test[target+6]\n",
    "        all=[]\n",
    "        for a in original:\n",
    "            aa=[]\n",
    "            for b in a:\n",
    "                bb=[]\n",
    "                for c in b:\n",
    "                    bb.append([c,c,c])\n",
    "                aa.append(bb)\n",
    "            all.append(aa)\n",
    "        \n",
    "        original=np.array(all)[:,:,:,:,0]\n",
    "\n",
    "        #before peak hour - 7~12\n",
    "        before=compute_metrics(original,predict,7,12)\n",
    "        #peak 12~19\n",
    "        peak=compute_metrics(original,predict,12,19)\n",
    "        #after 19~21\n",
    "        after=compute_metrics(original,predict,19,21)\n",
    "\n",
    "        #rest 22~24 , 0~6\n",
    "        y=original[:,21:23,:,:]\n",
    "        y_pred=predict[:,21:23,:,:]\n",
    "        # 22~24 0~6 시간대 합치기\n",
    "        y=np.concatenate((y,original[:,0:5,:,:]),axis=1)\n",
    "        y_pred=np.concatenate((y_pred,predict[:,0:5,:,:]),axis=1)\n",
    "        # rest 에러 계산\n",
    "        y=(y)*100\n",
    "        y_pred=(y_pred)*100\n",
    "        y_flatten=y.flatten()\n",
    "        y_pred_flatten=y_pred.flatten()\n",
    "        mape=MAPE(y_flatten,y_pred_flatten,0)\n",
    "        mse=mean_squared_error(y_flatten,y_pred_flatten)\n",
    "        mae=mean_absolute_error(y_flatten,y_pred_flatten)\n",
    "        rest=[mse,mape,mae]\n",
    "        \n",
    "        #전체 저장\n",
    "        before_list.append(before)\n",
    "        after_list.append(after)\n",
    "        peak_list.append(peak)\n",
    "        rest_list.append(rest)\n",
    "        # print(len(before),len(after),len(peak),len(rest))\n",
    "        # print(before.shape,after.shape,peak.shape,rest.shape)\n",
    "\n",
    "    total.append(np.array((np.array(before_list),np.array(peak_list),np.array(after_list),np.array(rest_list))))\n",
    "total=np.array(total)"
   ]
  },
  {
   "cell_type": "code",
   "execution_count": null,
   "metadata": {},
   "outputs": [],
   "source": []
  },
  {
   "cell_type": "code",
   "execution_count": 131,
   "metadata": {},
   "outputs": [
    {
     "data": {
      "text/plain": [
       "(4, 4, 26, 3)"
      ]
     },
     "execution_count": 131,
     "metadata": {},
     "output_type": "execute_result"
    }
   ],
   "source": [
    "total.shape"
   ]
  },
  {
   "cell_type": "code",
   "execution_count": 8,
   "metadata": {},
   "outputs": [
    {
     "name": "stdout",
     "output_type": "stream",
     "text": [
      "0번째\n",
      "before\n",
      "[133.70405021  13.38849468   6.9655794 ]\n",
      "peak\n",
      "[62.45959533 10.47084358  4.55477694]\n",
      "after\n",
      "[133.5371479   17.30497125   5.94284356]\n",
      "rest\n",
      "[52.80600165  7.34543536  4.06192379]\n",
      "표준편차\n",
      "before\n",
      "[18.95282633  1.92968698  0.6285696 ]\n",
      "peak\n",
      "[10.95000943  1.30607996  0.47471815]\n",
      "after\n",
      "[27.51395508  1.79862299  0.84527467]\n",
      "rest\n",
      "[28.80034164  2.61457752  1.23967856]\n"
     ]
    }
   ],
   "source": [
    "# mse,mape,mae\n",
    "for i in range(len(models)):\n",
    "    print(f\"{i}번째\")\n",
    "    print(\"before\")\n",
    "    print(np.mean(total[i][0],axis=0))\n",
    "    print(\"peak\")\n",
    "    print(np.mean(total[i][1],axis=0))\n",
    "    print(\"after\")\n",
    "    print(np.mean(total[i][2],axis=0))\n",
    "    print(\"rest\")\n",
    "    print(np.mean(total[i][3],axis=0))\n",
    "    print(\"표준편차\")\n",
    "    print(\"before\")\n",
    "    print(np.std(total[i][0],axis=0))\n",
    "    print(\"peak\")\n",
    "    print(np.std(total[i][1],axis=0))\n",
    "    print(\"after\")\n",
    "    print(np.std(total[i][2],axis=0))\n",
    "    print(\"rest\")\n",
    "    print(np.std(total[i][3],axis=0))"
   ]
  },
  {
   "cell_type": "code",
   "execution_count": 5,
   "metadata": {},
   "outputs": [
    {
     "ename": "KeyboardInterrupt",
     "evalue": "",
     "output_type": "error",
     "traceback": [
      "\u001b[1;31m---------------------------------------------------------------------------\u001b[0m",
      "\u001b[1;31mKeyboardInterrupt\u001b[0m                         Traceback (most recent call last)",
      "\u001b[1;32m~\\AppData\\Local\\Temp/ipykernel_24180/3178046115.py\u001b[0m in \u001b[0;36m<module>\u001b[1;34m\u001b[0m\n\u001b[0;32m     13\u001b[0m \u001b[1;33m\u001b[0m\u001b[0m\n\u001b[0;32m     14\u001b[0m \u001b[1;33m\u001b[0m\u001b[0m\n\u001b[1;32m---> 15\u001b[1;33m         \u001b[0mpredict\u001b[0m\u001b[1;33m=\u001b[0m\u001b[0m_predict\u001b[0m\u001b[1;33m(\u001b[0m\u001b[0mmodels\u001b[0m\u001b[1;33m,\u001b[0m\u001b[1;36m1\u001b[0m\u001b[1;33m,\u001b[0m\u001b[0mx_test\u001b[0m\u001b[1;33m,\u001b[0m\u001b[0mtarget\u001b[0m\u001b[1;33m)\u001b[0m\u001b[1;33m\u001b[0m\u001b[1;33m\u001b[0m\u001b[0m\n\u001b[0m\u001b[0;32m     16\u001b[0m \u001b[1;33m\u001b[0m\u001b[0m\n\u001b[0;32m     17\u001b[0m \u001b[1;33m\u001b[0m\u001b[0m\n",
      "\u001b[1;32m~\\AppData\\Local\\Temp/ipykernel_24180/467985468.py\u001b[0m in \u001b[0;36m_predict\u001b[1;34m(models, i, x_test, target)\u001b[0m\n\u001b[0;32m    114\u001b[0m         \u001b[0ma\u001b[0m\u001b[1;33m=\u001b[0m\u001b[0mnp\u001b[0m\u001b[1;33m.\u001b[0m\u001b[0mexpand_dims\u001b[0m\u001b[1;33m(\u001b[0m\u001b[0mx_test\u001b[0m\u001b[1;33m[\u001b[0m\u001b[0mtarget\u001b[0m\u001b[1;33m+\u001b[0m\u001b[0midx\u001b[0m\u001b[1;33m]\u001b[0m\u001b[1;33m,\u001b[0m \u001b[0maxis\u001b[0m\u001b[1;33m=\u001b[0m\u001b[1;36m0\u001b[0m\u001b[1;33m)\u001b[0m\u001b[1;33m\u001b[0m\u001b[1;33m\u001b[0m\u001b[0m\n\u001b[0;32m    115\u001b[0m \u001b[1;33m\u001b[0m\u001b[0m\n\u001b[1;32m--> 116\u001b[1;33m         \u001b[0mprd\u001b[0m\u001b[1;33m=\u001b[0m\u001b[0mmodels\u001b[0m\u001b[1;33m[\u001b[0m\u001b[0mi\u001b[0m\u001b[1;33m]\u001b[0m\u001b[1;33m.\u001b[0m\u001b[0mpredict\u001b[0m\u001b[1;33m(\u001b[0m\u001b[0ma\u001b[0m\u001b[1;33m)\u001b[0m\u001b[1;33m\u001b[0m\u001b[1;33m\u001b[0m\u001b[0m\n\u001b[0m\u001b[0;32m    117\u001b[0m         \u001b[1;31m#gray에서 이미지보여주려고 ch3만듬\u001b[0m\u001b[1;33m\u001b[0m\u001b[1;33m\u001b[0m\u001b[1;33m\u001b[0m\u001b[0m\n\u001b[0;32m    118\u001b[0m         \u001b[0mall\u001b[0m\u001b[1;33m=\u001b[0m\u001b[1;33m[\u001b[0m\u001b[1;33m]\u001b[0m\u001b[1;33m\u001b[0m\u001b[1;33m\u001b[0m\u001b[0m\n",
      "\u001b[1;32m~\\anaconda3\\envs\\convlnote\\lib\\site-packages\\tensorflow\\python\\keras\\engine\\training.py\u001b[0m in \u001b[0;36m_method_wrapper\u001b[1;34m(self, *args, **kwargs)\u001b[0m\n\u001b[0;32m    128\u001b[0m       raise ValueError('{} is not supported in multi-worker mode.'.format(\n\u001b[0;32m    129\u001b[0m           method.__name__))\n\u001b[1;32m--> 130\u001b[1;33m     \u001b[1;32mreturn\u001b[0m \u001b[0mmethod\u001b[0m\u001b[1;33m(\u001b[0m\u001b[0mself\u001b[0m\u001b[1;33m,\u001b[0m \u001b[1;33m*\u001b[0m\u001b[0margs\u001b[0m\u001b[1;33m,\u001b[0m \u001b[1;33m**\u001b[0m\u001b[0mkwargs\u001b[0m\u001b[1;33m)\u001b[0m\u001b[1;33m\u001b[0m\u001b[1;33m\u001b[0m\u001b[0m\n\u001b[0m\u001b[0;32m    131\u001b[0m \u001b[1;33m\u001b[0m\u001b[0m\n\u001b[0;32m    132\u001b[0m   return tf_decorator.make_decorator(\n",
      "\u001b[1;32m~\\anaconda3\\envs\\convlnote\\lib\\site-packages\\tensorflow\\python\\keras\\engine\\training.py\u001b[0m in \u001b[0;36mpredict\u001b[1;34m(self, x, batch_size, verbose, steps, callbacks, max_queue_size, workers, use_multiprocessing)\u001b[0m\n\u001b[0;32m   1597\u001b[0m           \u001b[1;32mfor\u001b[0m \u001b[0mstep\u001b[0m \u001b[1;32min\u001b[0m \u001b[0mdata_handler\u001b[0m\u001b[1;33m.\u001b[0m\u001b[0msteps\u001b[0m\u001b[1;33m(\u001b[0m\u001b[1;33m)\u001b[0m\u001b[1;33m:\u001b[0m\u001b[1;33m\u001b[0m\u001b[1;33m\u001b[0m\u001b[0m\n\u001b[0;32m   1598\u001b[0m             \u001b[0mcallbacks\u001b[0m\u001b[1;33m.\u001b[0m\u001b[0mon_predict_batch_begin\u001b[0m\u001b[1;33m(\u001b[0m\u001b[0mstep\u001b[0m\u001b[1;33m)\u001b[0m\u001b[1;33m\u001b[0m\u001b[1;33m\u001b[0m\u001b[0m\n\u001b[1;32m-> 1599\u001b[1;33m             \u001b[0mtmp_batch_outputs\u001b[0m \u001b[1;33m=\u001b[0m \u001b[0mpredict_function\u001b[0m\u001b[1;33m(\u001b[0m\u001b[0miterator\u001b[0m\u001b[1;33m)\u001b[0m\u001b[1;33m\u001b[0m\u001b[1;33m\u001b[0m\u001b[0m\n\u001b[0m\u001b[0;32m   1600\u001b[0m             \u001b[1;32mif\u001b[0m \u001b[0mdata_handler\u001b[0m\u001b[1;33m.\u001b[0m\u001b[0mshould_sync\u001b[0m\u001b[1;33m:\u001b[0m\u001b[1;33m\u001b[0m\u001b[1;33m\u001b[0m\u001b[0m\n\u001b[0;32m   1601\u001b[0m               \u001b[0mcontext\u001b[0m\u001b[1;33m.\u001b[0m\u001b[0masync_wait\u001b[0m\u001b[1;33m(\u001b[0m\u001b[1;33m)\u001b[0m\u001b[1;33m\u001b[0m\u001b[1;33m\u001b[0m\u001b[0m\n",
      "\u001b[1;32m~\\anaconda3\\envs\\convlnote\\lib\\site-packages\\tensorflow\\python\\eager\\def_function.py\u001b[0m in \u001b[0;36m__call__\u001b[1;34m(self, *args, **kwds)\u001b[0m\n\u001b[0;32m    778\u001b[0m       \u001b[1;32melse\u001b[0m\u001b[1;33m:\u001b[0m\u001b[1;33m\u001b[0m\u001b[1;33m\u001b[0m\u001b[0m\n\u001b[0;32m    779\u001b[0m         \u001b[0mcompiler\u001b[0m \u001b[1;33m=\u001b[0m \u001b[1;34m\"nonXla\"\u001b[0m\u001b[1;33m\u001b[0m\u001b[1;33m\u001b[0m\u001b[0m\n\u001b[1;32m--> 780\u001b[1;33m         \u001b[0mresult\u001b[0m \u001b[1;33m=\u001b[0m \u001b[0mself\u001b[0m\u001b[1;33m.\u001b[0m\u001b[0m_call\u001b[0m\u001b[1;33m(\u001b[0m\u001b[1;33m*\u001b[0m\u001b[0margs\u001b[0m\u001b[1;33m,\u001b[0m \u001b[1;33m**\u001b[0m\u001b[0mkwds\u001b[0m\u001b[1;33m)\u001b[0m\u001b[1;33m\u001b[0m\u001b[1;33m\u001b[0m\u001b[0m\n\u001b[0m\u001b[0;32m    781\u001b[0m \u001b[1;33m\u001b[0m\u001b[0m\n\u001b[0;32m    782\u001b[0m       \u001b[0mnew_tracing_count\u001b[0m \u001b[1;33m=\u001b[0m \u001b[0mself\u001b[0m\u001b[1;33m.\u001b[0m\u001b[0m_get_tracing_count\u001b[0m\u001b[1;33m(\u001b[0m\u001b[1;33m)\u001b[0m\u001b[1;33m\u001b[0m\u001b[1;33m\u001b[0m\u001b[0m\n",
      "\u001b[1;32m~\\anaconda3\\envs\\convlnote\\lib\\site-packages\\tensorflow\\python\\eager\\def_function.py\u001b[0m in \u001b[0;36m_call\u001b[1;34m(self, *args, **kwds)\u001b[0m\n\u001b[0;32m    812\u001b[0m       \u001b[1;31m# In this case we have not created variables on the first call. So we can\u001b[0m\u001b[1;33m\u001b[0m\u001b[1;33m\u001b[0m\u001b[1;33m\u001b[0m\u001b[0m\n\u001b[0;32m    813\u001b[0m       \u001b[1;31m# run the first trace but we should fail if variables are created.\u001b[0m\u001b[1;33m\u001b[0m\u001b[1;33m\u001b[0m\u001b[1;33m\u001b[0m\u001b[0m\n\u001b[1;32m--> 814\u001b[1;33m       \u001b[0mresults\u001b[0m \u001b[1;33m=\u001b[0m \u001b[0mself\u001b[0m\u001b[1;33m.\u001b[0m\u001b[0m_stateful_fn\u001b[0m\u001b[1;33m(\u001b[0m\u001b[1;33m*\u001b[0m\u001b[0margs\u001b[0m\u001b[1;33m,\u001b[0m \u001b[1;33m**\u001b[0m\u001b[0mkwds\u001b[0m\u001b[1;33m)\u001b[0m\u001b[1;33m\u001b[0m\u001b[1;33m\u001b[0m\u001b[0m\n\u001b[0m\u001b[0;32m    815\u001b[0m       \u001b[1;32mif\u001b[0m \u001b[0mself\u001b[0m\u001b[1;33m.\u001b[0m\u001b[0m_created_variables\u001b[0m\u001b[1;33m:\u001b[0m\u001b[1;33m\u001b[0m\u001b[1;33m\u001b[0m\u001b[0m\n\u001b[0;32m    816\u001b[0m         raise ValueError(\"Creating variables on a non-first call to a function\"\n",
      "\u001b[1;32m~\\anaconda3\\envs\\convlnote\\lib\\site-packages\\tensorflow\\python\\eager\\function.py\u001b[0m in \u001b[0;36m__call__\u001b[1;34m(self, *args, **kwargs)\u001b[0m\n\u001b[0;32m   2827\u001b[0m     \u001b[1;32mwith\u001b[0m \u001b[0mself\u001b[0m\u001b[1;33m.\u001b[0m\u001b[0m_lock\u001b[0m\u001b[1;33m:\u001b[0m\u001b[1;33m\u001b[0m\u001b[1;33m\u001b[0m\u001b[0m\n\u001b[0;32m   2828\u001b[0m       \u001b[0mgraph_function\u001b[0m\u001b[1;33m,\u001b[0m \u001b[0margs\u001b[0m\u001b[1;33m,\u001b[0m \u001b[0mkwargs\u001b[0m \u001b[1;33m=\u001b[0m \u001b[0mself\u001b[0m\u001b[1;33m.\u001b[0m\u001b[0m_maybe_define_function\u001b[0m\u001b[1;33m(\u001b[0m\u001b[0margs\u001b[0m\u001b[1;33m,\u001b[0m \u001b[0mkwargs\u001b[0m\u001b[1;33m)\u001b[0m\u001b[1;33m\u001b[0m\u001b[1;33m\u001b[0m\u001b[0m\n\u001b[1;32m-> 2829\u001b[1;33m     \u001b[1;32mreturn\u001b[0m \u001b[0mgraph_function\u001b[0m\u001b[1;33m.\u001b[0m\u001b[0m_filtered_call\u001b[0m\u001b[1;33m(\u001b[0m\u001b[0margs\u001b[0m\u001b[1;33m,\u001b[0m \u001b[0mkwargs\u001b[0m\u001b[1;33m)\u001b[0m  \u001b[1;31m# pylint: disable=protected-access\u001b[0m\u001b[1;33m\u001b[0m\u001b[1;33m\u001b[0m\u001b[0m\n\u001b[0m\u001b[0;32m   2830\u001b[0m \u001b[1;33m\u001b[0m\u001b[0m\n\u001b[0;32m   2831\u001b[0m   \u001b[1;33m@\u001b[0m\u001b[0mproperty\u001b[0m\u001b[1;33m\u001b[0m\u001b[1;33m\u001b[0m\u001b[0m\n",
      "\u001b[1;32m~\\anaconda3\\envs\\convlnote\\lib\\site-packages\\tensorflow\\python\\eager\\function.py\u001b[0m in \u001b[0;36m_filtered_call\u001b[1;34m(self, args, kwargs, cancellation_manager)\u001b[0m\n\u001b[0;32m   1841\u001b[0m       \u001b[0;31m`\u001b[0m\u001b[0margs\u001b[0m\u001b[0;31m`\u001b[0m \u001b[1;32mand\u001b[0m\u001b[0;31m \u001b[0m\u001b[0;31m`\u001b[0m\u001b[0mkwargs\u001b[0m\u001b[0;31m`\u001b[0m\u001b[1;33m.\u001b[0m\u001b[1;33m\u001b[0m\u001b[1;33m\u001b[0m\u001b[0m\n\u001b[0;32m   1842\u001b[0m     \"\"\"\n\u001b[1;32m-> 1843\u001b[1;33m     return self._call_flat(\n\u001b[0m\u001b[0;32m   1844\u001b[0m         [t for t in nest.flatten((args, kwargs), expand_composites=True)\n\u001b[0;32m   1845\u001b[0m          if isinstance(t, (ops.Tensor,\n",
      "\u001b[1;32m~\\anaconda3\\envs\\convlnote\\lib\\site-packages\\tensorflow\\python\\eager\\function.py\u001b[0m in \u001b[0;36m_call_flat\u001b[1;34m(self, args, captured_inputs, cancellation_manager)\u001b[0m\n\u001b[0;32m   1921\u001b[0m         and executing_eagerly):\n\u001b[0;32m   1922\u001b[0m       \u001b[1;31m# No tape is watching; skip to running the function.\u001b[0m\u001b[1;33m\u001b[0m\u001b[1;33m\u001b[0m\u001b[1;33m\u001b[0m\u001b[0m\n\u001b[1;32m-> 1923\u001b[1;33m       return self._build_call_outputs(self._inference_function.call(\n\u001b[0m\u001b[0;32m   1924\u001b[0m           ctx, args, cancellation_manager=cancellation_manager))\n\u001b[0;32m   1925\u001b[0m     forward_backward = self._select_forward_and_backward_functions(\n",
      "\u001b[1;32m~\\anaconda3\\envs\\convlnote\\lib\\site-packages\\tensorflow\\python\\eager\\function.py\u001b[0m in \u001b[0;36mcall\u001b[1;34m(self, ctx, args, cancellation_manager)\u001b[0m\n\u001b[0;32m    543\u001b[0m       \u001b[1;32mwith\u001b[0m \u001b[0m_InterpolateFunctionError\u001b[0m\u001b[1;33m(\u001b[0m\u001b[0mself\u001b[0m\u001b[1;33m)\u001b[0m\u001b[1;33m:\u001b[0m\u001b[1;33m\u001b[0m\u001b[1;33m\u001b[0m\u001b[0m\n\u001b[0;32m    544\u001b[0m         \u001b[1;32mif\u001b[0m \u001b[0mcancellation_manager\u001b[0m \u001b[1;32mis\u001b[0m \u001b[1;32mNone\u001b[0m\u001b[1;33m:\u001b[0m\u001b[1;33m\u001b[0m\u001b[1;33m\u001b[0m\u001b[0m\n\u001b[1;32m--> 545\u001b[1;33m           outputs = execute.execute(\n\u001b[0m\u001b[0;32m    546\u001b[0m               \u001b[0mstr\u001b[0m\u001b[1;33m(\u001b[0m\u001b[0mself\u001b[0m\u001b[1;33m.\u001b[0m\u001b[0msignature\u001b[0m\u001b[1;33m.\u001b[0m\u001b[0mname\u001b[0m\u001b[1;33m)\u001b[0m\u001b[1;33m,\u001b[0m\u001b[1;33m\u001b[0m\u001b[1;33m\u001b[0m\u001b[0m\n\u001b[0;32m    547\u001b[0m               \u001b[0mnum_outputs\u001b[0m\u001b[1;33m=\u001b[0m\u001b[0mself\u001b[0m\u001b[1;33m.\u001b[0m\u001b[0m_num_outputs\u001b[0m\u001b[1;33m,\u001b[0m\u001b[1;33m\u001b[0m\u001b[1;33m\u001b[0m\u001b[0m\n",
      "\u001b[1;32m~\\anaconda3\\envs\\convlnote\\lib\\site-packages\\tensorflow\\python\\eager\\execute.py\u001b[0m in \u001b[0;36mquick_execute\u001b[1;34m(op_name, num_outputs, inputs, attrs, ctx, name)\u001b[0m\n\u001b[0;32m     57\u001b[0m   \u001b[1;32mtry\u001b[0m\u001b[1;33m:\u001b[0m\u001b[1;33m\u001b[0m\u001b[1;33m\u001b[0m\u001b[0m\n\u001b[0;32m     58\u001b[0m     \u001b[0mctx\u001b[0m\u001b[1;33m.\u001b[0m\u001b[0mensure_initialized\u001b[0m\u001b[1;33m(\u001b[0m\u001b[1;33m)\u001b[0m\u001b[1;33m\u001b[0m\u001b[1;33m\u001b[0m\u001b[0m\n\u001b[1;32m---> 59\u001b[1;33m     tensors = pywrap_tfe.TFE_Py_Execute(ctx._handle, device_name, op_name,\n\u001b[0m\u001b[0;32m     60\u001b[0m                                         inputs, attrs, num_outputs)\n\u001b[0;32m     61\u001b[0m   \u001b[1;32mexcept\u001b[0m \u001b[0mcore\u001b[0m\u001b[1;33m.\u001b[0m\u001b[0m_NotOkStatusException\u001b[0m \u001b[1;32mas\u001b[0m \u001b[0me\u001b[0m\u001b[1;33m:\u001b[0m\u001b[1;33m\u001b[0m\u001b[1;33m\u001b[0m\u001b[0m\n",
      "\u001b[1;31mKeyboardInterrupt\u001b[0m: "
     ]
    }
   ],
   "source": [
    "# 2020년 (훈련안시킨거) 모든거 예측하고 매트릭 확인\n",
    "batch_size=64\n",
    "win=7\n",
    "total=[]\n",
    "for k in range(20):\n",
    "    before_list=[]\n",
    "    after_list=[]\n",
    "    peak_list=[]\n",
    "    rest_list=[]\n",
    "    # for i in tqdm(list):\n",
    "    x_test = np.load(f\"{path}/2020/{k}.npz\")['arr_0']\n",
    "    for target in range(batch_size-win+1):\n",
    "\n",
    "\n",
    "        predict=_predict(models,1,x_test,target)\n",
    "        \n",
    "        \n",
    "        original=x_test[target+7]\n",
    "        all=[]\n",
    "        for a in original:\n",
    "            aa=[]\n",
    "            for b in a:\n",
    "                bb=[]\n",
    "                for c in b:\n",
    "                    bb.append([c,c,c])\n",
    "                aa.append(bb)\n",
    "            all.append(aa)\n",
    "        \n",
    "        original=np.array(all)[:,:,:,:,0]\n",
    "\n",
    "        #before peak hour - 7~12\n",
    "        before=compute_metrics(original,predict,7,12)\n",
    "        #peak 12~19\n",
    "        peak=compute_metrics(original,predict,12,19)\n",
    "        #after 19~21\n",
    "        after=compute_metrics(original,predict,19,21)\n",
    "\n",
    "        #rest 22~24 , 0~6\n",
    "        y=original[:,21:23,:,:]\n",
    "        y_pred=predict[:,21:23,:,:]\n",
    "        # 22~24 0~6 시간대 합치기\n",
    "        y=np.concatenate((y,original[:,0:5,:,:]),axis=1)\n",
    "        y_pred=np.concatenate((y_pred,predict[:,0:5,:,:]),axis=1)\n",
    "        # rest 에러 계산\n",
    "        y=(y)*100\n",
    "        y_pred=(y_pred)*100\n",
    "        y_flatten=y.flatten()\n",
    "        y_pred_flatten=y_pred.flatten()\n",
    "        mape=MAPE(y_flatten,y_pred_flatten,0)\n",
    "        mse=mean_squared_error(y_flatten,y_pred_flatten)\n",
    "        mae=mean_absolute_error(y_flatten,y_pred_flatten)\n",
    "        \n",
    "        rest=[mse,mape,mae]\n",
    "        \n",
    "        #전체 저장\n",
    "        before_list.append(before)\n",
    "        after_list.append(after)\n",
    "        peak_list.append(peak)\n",
    "        rest_list.append(rest)\n",
    "\n",
    "\n",
    "    total.append(np.array((np.array(before_list),np.array(peak_list),np.array(after_list),np.array(rest_list))))\n",
    "total=np.array(total)"
   ]
  },
  {
   "cell_type": "code",
   "execution_count": 7,
   "metadata": {},
   "outputs": [],
   "source": [
    "# 2020년 (훈련안시킨거) 모든거 예측하고 매트릭 확인\n",
    "batch_size=64\n",
    "win=7\n",
    "total=[]\n",
    "for k in range(20):\n",
    "    times=[]\n",
    "    x_test = np.load(f\"{path}/2020/{k}.npz\")['arr_0']\n",
    "    \n",
    "    for target in range(batch_size-win):\n",
    "        predict=_predict(models,1,x_test,target)\n",
    "        \n",
    "        \n",
    "        original=x_test[target+7]\n",
    "        all=[]\n",
    "        for a in original:\n",
    "            aa=[]\n",
    "            for b in a:\n",
    "                bb=[]\n",
    "                for c in b:\n",
    "                    bb.append([c,c,c])\n",
    "                aa.append(bb)\n",
    "            all.append(aa)\n",
    "        original=np.array(all)[:,:,:,:,0]\n",
    "\n",
    "\n",
    "        time=[]\n",
    "        for i in range(1,25):\n",
    "            time.append(compute_metrics(original,predict,i,i+1))\n",
    "        \n",
    "\n",
    "        \n",
    "        #전체 저장\n",
    "        times.append(np.array(time))\n",
    "\n",
    "    total.append(np.array(times))\n",
    "total=np.array(total)"
   ]
  },
  {
   "cell_type": "code",
   "execution_count": 10,
   "metadata": {},
   "outputs": [],
   "source": [
    "new_total=total.reshape(-1,24,3)"
   ]
  },
  {
   "cell_type": "code",
   "execution_count": 12,
   "metadata": {},
   "outputs": [
    {
     "data": {
      "text/plain": [
       "(1140, 24, 3)"
      ]
     },
     "execution_count": 12,
     "metadata": {},
     "output_type": "execute_result"
    }
   ],
   "source": [
    "new_total.shape"
   ]
  },
  {
   "cell_type": "code",
   "execution_count": null,
   "metadata": {},
   "outputs": [],
   "source": [
    "# mse,mape,mae\n",
    "print(\"before\")\n",
    "print(np.mean(total[0][0],axis=0))\n",
    "print(\"peak\")\n",
    "print(np.mean(total[0][1],axis=0))\n",
    "print(\"after\")\n",
    "print(np.mean(total[0][2],axis=0))\n",
    "print(\"rest\")\n",
    "print(np.mean(total[0][3],axis=0))\n",
    "print(\"표준편차\")\n",
    "print(\"before\")\n",
    "print(np.std(total[0][0],axis=0))\n",
    "print(\"peak\")\n",
    "print(np.std(total[0][1],axis=0))\n",
    "print(\"after\")\n",
    "print(np.std(total[0][2],axis=0))\n",
    "print(\"rest\")\n",
    "print(np.std(total[0][3],axis=0))"
   ]
  },
  {
   "cell_type": "code",
   "execution_count": 100,
   "metadata": {},
   "outputs": [],
   "source": [
    "# 2020년 (훈련안시킨거) 모든거 예측하고 매트릭 확인\n",
    "# 7일 단위로 끊기\n",
    "batch_size=64\n",
    "win=7\n",
    "total_7=[]\n",
    "for k in range(20):\n",
    "    times=[]\n",
    "    x_test = np.load(f\"{path}/2020/{k}.npz\")['arr_0']\n",
    "    \n",
    "    for target in range(0,batch_size-win,7):\n",
    "        predict=_predict(models,1,x_test,target)\n",
    "        \n",
    "        \n",
    "        original=x_test[target+7]\n",
    "        all=[]\n",
    "        for a in original:\n",
    "            aa=[]\n",
    "            for b in a:\n",
    "                bb=[]\n",
    "                for c in b:\n",
    "                    bb.append([c,c,c])\n",
    "                aa.append(bb)\n",
    "            all.append(aa)\n",
    "        original=np.array(all)[:,:,:,:,0]\n",
    "\n",
    "\n",
    "        time=[]\n",
    "        for i in range(1,25):\n",
    "            time.append(compute_metrics(original,predict,i,i+1))\n",
    "        \n",
    "\n",
    "        \n",
    "        #전체 저장\n",
    "        times.append(np.array(time))\n",
    "\n",
    "    total_7.append(np.array(times))\n",
    "total_7=np.array(total_7)"
   ]
  },
  {
   "cell_type": "code",
   "execution_count": 101,
   "metadata": {},
   "outputs": [
    {
     "data": {
      "text/plain": [
       "(180, 24, 4)"
      ]
     },
     "execution_count": 101,
     "metadata": {},
     "output_type": "execute_result"
    }
   ],
   "source": [
    "total_7=total_7.reshape(-1,24,4)\n",
    "total_7.shape"
   ]
  },
  {
   "cell_type": "code",
   "execution_count": 102,
   "metadata": {},
   "outputs": [
    {
     "name": "stdout",
     "output_type": "stream",
     "text": [
      "0.2762103989635054\n"
     ]
    }
   ],
   "source": [
    "print(total_7[0,1,3])"
   ]
  },
  {
   "cell_type": "code",
   "execution_count": 68,
   "metadata": {},
   "outputs": [
    {
     "data": {
      "text/plain": [
       "array([ 8.02160956,  9.62778087,  3.76604731,  7.88810653,  6.66282027,\n",
       "        6.83295256,  5.22084957,  3.38297477, 10.53926098,  3.75452878,\n",
       "        9.31892017,  4.35368263,  7.71548343,  3.97662136,  2.94657559,\n",
       "       11.14394574,  4.66207891, 11.51567861,  6.53619494,  5.28172395,\n",
       "        4.12650743,  2.6205156 , 11.34056956, 10.45934479,  6.31542246,\n",
       "        4.11908386,  2.92384956,  3.60552046, 10.54766145,  5.18985339,\n",
       "       10.54237757,  5.95052337,  4.33086596,  2.37040735, 13.44283754,\n",
       "       10.25483785,  5.59326894, 11.55549042,  3.71931126,  3.6799987 ,\n",
       "       11.4526255 , 12.31208732,  2.70730667,  9.14490848,  7.93834875,\n",
       "        3.84894778,  3.36645754, 12.83416003, 10.93501062,  9.04572634,\n",
       "        6.04286481,  5.92701436,  9.85104302,  3.69538222, 13.37740062,\n",
       "       10.32315855,  9.03158073,  6.16654776,  5.78141794, 10.08215904,\n",
       "        3.02644306,  3.84799091,  8.31311368,  9.08898093,  7.11439563,\n",
       "        4.4665706 , 10.20144998,  3.07747141,  7.30902191,  9.069604  ,\n",
       "       14.74019781, 14.56788096,  2.52768983, 10.22764113,  3.02081445,\n",
       "        8.52130204, 15.77886325, 13.61429241,  8.61826622,  4.44719283,\n",
       "       12.3985481 ,  3.71084163,  8.28652631, 15.96174117, 13.87137978,\n",
       "        8.00671904,  4.0987503 , 16.30248636, 14.94765267, 15.83355466,\n",
       "        5.44954696,  7.17773123, 18.28889566, 15.83355466, 15.83355466,\n",
       "       15.83355466, 19.17159413, 11.76425607,  5.20444206, 14.75386292,\n",
       "       15.83355466, 15.83355466, 15.83355466, 17.69120827, 11.11019937,\n",
       "        5.57054835, 15.69922634, 17.18210111, 15.83355466, 17.38368697,\n",
       "       13.86194708, 11.14164298,  8.65919735, 15.5105752 , 16.1309716 ,\n",
       "        9.89380714,  9.82097566,  7.23456749, 11.7819736 , 14.9881615 ,\n",
       "       12.77202119, 13.56618529, 10.27535152, 11.41059737,  5.38157893,\n",
       "        8.11850804, 14.98189803, 17.82892071,  5.56353502, 13.01284576,\n",
       "        8.0640285 ,  5.0941406 ,  8.45848168,  6.30762185,  4.27550356,\n",
       "       10.0016541 ,  9.80272455,  7.98642881,  7.3609483 ,  6.3290863 ,\n",
       "        6.33644497, 11.16589804,  7.42940847,  7.08773607,  5.45782433,\n",
       "        7.79289961,  5.98591874,  6.02933349, 11.33780319,  7.30303809,\n",
       "        7.06751413,  6.1745899 ,  6.98049653,  5.43092096,  5.68969098,\n",
       "       11.92210556,  7.15106498,  6.56048409,  6.34539149,  9.08612842,\n",
       "       10.90573395, 10.45354733, 12.76427542,  7.1215033 ,  5.98283748,\n",
       "        5.64347783, 10.09299336,  9.71605448, 11.55295967,  7.9152805 ,\n",
       "        2.70165565,  5.56198485,  7.2065853 , 12.85934095,  3.49854893,\n",
       "       13.29793693,  3.85643534,  6.93813841,  8.48510554,  3.72072319])"
      ]
     },
     "execution_count": 68,
     "metadata": {},
     "output_type": "execute_result"
    }
   ],
   "source": [
    "np.sqrt(total_7[:,0,0].astype(float))"
   ]
  },
  {
   "cell_type": "code",
   "execution_count": 104,
   "metadata": {},
   "outputs": [],
   "source": [
    "rmse_list=[]\n",
    "mape_list=[]\n",
    "pval_list=[]\n",
    "for time in range(24):\n",
    "    #rmse\n",
    "    rmse_list.append(np.mean(np.sqrt(total_7[:,time,0].astype(float))))\n",
    "    #mape\n",
    "    mape_list.append(np.mean(total_7[:,time,1]))\n",
    "    #p_value\n",
    "    pval_list.append(np.mean(total_7[:,time,3]))"
   ]
  },
  {
   "cell_type": "code",
   "execution_count": 110,
   "metadata": {},
   "outputs": [],
   "source": [
    "rmse_l=[]\n",
    "mape_l=[]\n",
    "pval_l=[]\n",
    "for time in range(24):\n",
    "    #rmse\n",
    "    rmse_l.append(np.std(np.sqrt(total_7[:,time,0].astype(float)),axis=0))\n",
    "    #mape\n",
    "    mape_l.append(np.std(total_7[:,time,1],axis=0))\n",
    "    #p_value\n",
    "    # pval_list.append(np.mean(total_7[:,time,3]))"
   ]
  },
  {
   "cell_type": "code",
   "execution_count": 111,
   "metadata": {},
   "outputs": [
    {
     "data": {
      "text/plain": [
       "[4.149826015561937,\n",
       " 3.8236402404791443,\n",
       " 4.044592279181505,\n",
       " 6.2111090686060715,\n",
       " 15.248774378019782,\n",
       " 2.8012424183480573,\n",
       " 3.6211246176435234,\n",
       " 3.518161674284477,\n",
       " 3.2594755419282264,\n",
       " 3.7819924303953685,\n",
       " 4.1155157834510545,\n",
       " 4.236461741392352,\n",
       " 3.9933958332969044,\n",
       " 4.048514778226796,\n",
       " 4.209597757342208,\n",
       " 4.410505567956406,\n",
       " 4.513528911559505,\n",
       " 4.841774487511273,\n",
       " 4.99566842437655,\n",
       " 4.479232972483778,\n",
       " 4.137302005073062,\n",
       " 4.271852659041643,\n",
       " 4.382779350933167,\n",
       " 5.1070577273242]"
      ]
     },
     "execution_count": 111,
     "metadata": {},
     "output_type": "execute_result"
    }
   ],
   "source": [
    "rmse_l"
   ]
  },
  {
   "cell_type": "code",
   "execution_count": 112,
   "metadata": {},
   "outputs": [
    {
     "data": {
      "text/plain": [
       "[4.943348076780592,\n",
       " 4.801364678339952,\n",
       " 5.005187455964675,\n",
       " 5.440857344306461,\n",
       " 11.408961463394226,\n",
       " 3.2786434619446454,\n",
       " 4.635803107675798,\n",
       " 5.335184695644954,\n",
       " 5.602828201719967,\n",
       " 5.989623811325636,\n",
       " 6.3380926328235505,\n",
       " 5.977052388119074,\n",
       " 5.584075657633547,\n",
       " 5.706421790835356,\n",
       " 6.718324464130988,\n",
       " 8.128444745146915,\n",
       " 8.75396518356811,\n",
       " 10.189390022353408,\n",
       " 10.489093120337186,\n",
       " 8.99578182763843,\n",
       " 8.376388900855106,\n",
       " 7.3230403305654885,\n",
       " 6.018642764149588,\n",
       " 5.473307078872029]"
      ]
     },
     "execution_count": 112,
     "metadata": {},
     "output_type": "execute_result"
    }
   ],
   "source": [
    "mape_l"
   ]
  },
  {
   "cell_type": "code",
   "execution_count": 107,
   "metadata": {},
   "outputs": [
    {
     "data": {
      "text/plain": [
       "[0.516646144253236,\n",
       " 0.5575639767613686,\n",
       " 0.5272589978946922,\n",
       " 0.5275278869284178,\n",
       " 0.566159403291452,\n",
       " 0.7416016262503156,\n",
       " 0.459014430552156,\n",
       " 0.18072117585203876,\n",
       " 0.08755788320544991,\n",
       " 0.11955357531710435,\n",
       " 0.1495042708217826,\n",
       " 0.14685510077151778,\n",
       " 0.1339788790247144,\n",
       " 0.1933663436496715,\n",
       " 0.15342966050258436,\n",
       " 0.1029037297627935,\n",
       " 0.040780210417730056,\n",
       " 0.06646974906518364,\n",
       " 0.07590083938509494,\n",
       " 0.024474416103457353,\n",
       " 0.05136206014108338,\n",
       " 0.25050958152192254,\n",
       " 0.3535406246029494,\n",
       " 0.5030003077529072]"
      ]
     },
     "execution_count": 107,
     "metadata": {},
     "output_type": "execute_result"
    }
   ],
   "source": [
    "pval_list"
   ]
  },
  {
   "cell_type": "code",
   "execution_count": 108,
   "metadata": {},
   "outputs": [
    {
     "data": {
      "text/plain": [
       "[<matplotlib.lines.Line2D at 0x110467fd040>]"
      ]
     },
     "execution_count": 108,
     "metadata": {},
     "output_type": "execute_result"
    },
    {
     "data": {
      "image/png": "[encoded data removed]",
      "text/plain": [
       "<Figure size 432x288 with 1 Axes>"
      ]
     },
     "metadata": {
      "needs_background": "light"
     },
     "output_type": "display_data"
    }
   ],
   "source": [
    "plt.plot(range(24),pval_list)"
   ]
  },
  {
   "cell_type": "code",
   "execution_count": 70,
   "metadata": {},
   "outputs": [
    {
     "data": {
      "text/plain": [
       "[8.867808263771341,\n",
       " 8.02095371523782,\n",
       " 8.177744639991085,\n",
       " 9.407926610389957,\n",
       " 11.443389561550298,\n",
       " 6.510108682895126,\n",
       " 9.150495066412415,\n",
       " 10.878149877845706,\n",
       " 11.33526171449129,\n",
       " 11.372506210815901,\n",
       " 10.776703812388822,\n",
       " 10.57962778750727,\n",
       " 10.513310006377877,\n",
       " 10.075943881952988,\n",
       " 9.719218167336408,\n",
       " 10.090955956759398,\n",
       " 10.908842000605812,\n",
       " 10.934242161540377,\n",
       " 11.541597620576711,\n",
       " 12.810778025793482,\n",
       " 11.856926909728163,\n",
       " 10.443110784818808,\n",
       " 9.994426542840285,\n",
       " 9.214268846571047]"
      ]
     },
     "execution_count": 70,
     "metadata": {},
     "output_type": "execute_result"
    }
   ],
   "source": [
    "rmse_list"
   ]
  },
  {
   "cell_type": "code",
   "execution_count": 71,
   "metadata": {},
   "outputs": [
    {
     "data": {
      "text/plain": [
       "[<matplotlib.lines.Line2D at 0x110460c12e0>]"
      ]
     },
     "execution_count": 71,
     "metadata": {},
     "output_type": "execute_result"
    },
    {
     "data": {
      "image/png": "[encoded data removed]",
      "text/plain": [
       "<Figure size 432x288 with 1 Axes>"
      ]
     },
     "metadata": {
      "needs_background": "light"
     },
     "output_type": "display_data"
    }
   ],
   "source": [
    "plt.plot(range(24),rmse_list)"
   ]
  },
  {
   "cell_type": "code",
   "execution_count": 84,
   "metadata": {},
   "outputs": [
    {
     "data": {
      "image/png": "[encoded data removed]",
      "text/plain": [
       "<Figure size 432x288 with 1 Axes>"
      ]
     },
     "metadata": {
      "needs_background": "light"
     },
     "output_type": "display_data"
    }
   ],
   "source": [
    "fig, ax= plt.subplots()\n",
    "ax.boxplot(np.sqrt(total_7[:,:,0].astype(float)))\n",
    "ax.set_ylim(0,30)\n",
    "plt.show()"
   ]
  },
  {
   "cell_type": "code",
   "execution_count": 28,
   "metadata": {},
   "outputs": [
    {
     "data": {
      "text/plain": [
       "[8.8659590295319,\n",
       " 8.188788556973552,\n",
       " 8.351806699907685,\n",
       " 9.015570202962248,\n",
       " 10.432368632694565,\n",
       " 6.6089418420822135,\n",
       " 10.588185625874457,\n",
       " 13.066494988962367,\n",
       " 13.772223515033687,\n",
       " 14.166891653028966,\n",
       " 13.506325022299754,\n",
       " 12.418240374552354,\n",
       " 11.694220697010566,\n",
       " 11.603278445611219,\n",
       " 12.137366258691829,\n",
       " 12.326170061775347,\n",
       " 12.858682500914782,\n",
       " 13.526228276521406,\n",
       " 14.929399537592998,\n",
       " 16.58632390557017,\n",
       " 16.21181293328445,\n",
       " 13.90889428535523,\n",
       " 12.603837130545774,\n",
       " 10.168521386301448]"
      ]
     },
     "execution_count": 28,
     "metadata": {},
     "output_type": "execute_result"
    }
   ],
   "source": [
    "mape_list"
   ]
  },
  {
   "cell_type": "code",
   "execution_count": 36,
   "metadata": {},
   "outputs": [
    {
     "data": {
      "text/plain": [
       "[<matplotlib.lines.Line2D at 0x11041df2940>]"
      ]
     },
     "execution_count": 36,
     "metadata": {},
     "output_type": "execute_result"
    },
    {
     "data": {
      "image/png": "[encoded data removed]",
      "text/plain": [
       "<Figure size 432x288 with 1 Axes>"
      ]
     },
     "metadata": {
      "needs_background": "light"
     },
     "output_type": "display_data"
    }
   ],
   "source": [
    "plt.plot(range(24),mape_list)"
   ]
  },
  {
   "cell_type": "code",
   "execution_count": 89,
   "metadata": {},
   "outputs": [
    {
     "data": {
      "image/png": "[encoded data removed]",
      "text/plain": [
       "<Figure size 432x288 with 1 Axes>"
      ]
     },
     "metadata": {
      "needs_background": "light"
     },
     "output_type": "display_data"
    }
   ],
   "source": [
    "fig, ax= plt.subplots()\n",
    "ax.boxplot((total_7[:,:,1].astype(float)))\n",
    "ax.set_ylim(0,30)\n",
    "plt.show()"
   ]
  },
  {
   "cell_type": "code",
   "execution_count": 41,
   "metadata": {},
   "outputs": [
    {
     "name": "stdout",
     "output_type": "stream",
     "text": [
      "\n",
      "0번째\n",
      "속도 전체 에러율\n",
      "up: 0  down : 0\n",
      "rmse : 8.21211905268589 , mape : 20.262278525821046 , mae : 5.340851380524673\n",
      "속도 40이하 에러율\n",
      "up: 0  down : 0\n",
      "rmse : 4.8074153894656435 , mape : 21.037832453017245 , mae : 3.338552555987313\n",
      "\n",
      "1번째\n",
      "속도 전체 에러율\n",
      "up: 0  down : 0\n",
      "rmse : 8.535257897743396 , mape : 17.889518996191246 , mae : 4.6026156571836205\n",
      "속도 40이하 에러율\n",
      "up: 0  down : 0\n",
      "rmse : 6.899196507605867 , mape : 19.135232772047278 , mae : 3.470951642742728\n",
      "\n",
      "2번째\n",
      "속도 전체 에러율\n",
      "up: 0  down : 0\n",
      "rmse : 8.671831799766833 , mape : 30.095459632365273 , mae : 6.2853923410324315\n",
      "속도 40이하 에러율\n",
      "up: 0  down : 0\n",
      "rmse : 7.424812668580757 , mape : 35.56824573032154 , mae : 5.712188648977577\n"
     ]
    },
    {
     "data": {
      "image/png": "[encoded data removed]",
      "text/plain": [
       "<Figure size 720x720 with 28 Axes>"
      ]
     },
     "metadata": {
      "needs_background": "light"
     },
     "output_type": "display_data"
    }
   ],
   "source": [
    "# 모든 모델 새로운데이터로 확인하기\n",
    "\n",
    "x_test = np.load(f\"{path}/2020/7.npz\")['arr_0']\n",
    "target=6 # \n",
    "originals=[]\n",
    "predicts=[]\n",
    "model_num=3\n",
    "\n",
    "#원본데이터\n",
    "original=x_test[target+7]\n",
    "\n",
    "all=[]\n",
    "for img in original:\n",
    "    # print(a.shape)\n",
    "    one_img=[]\n",
    "    for pixels in img:\n",
    "        pixel=[]\n",
    "        for gray in pixels:\n",
    "            pixel.append([gray,gray,gray])\n",
    "        one_img.append(pixel)\n",
    "    all.append(one_img)\n",
    "original=np.array(all)[:,:,:,:,0]\n",
    "\n",
    "predicts=make_predict(models, model_num, x_test ,target,original)\n",
    "\n",
    "\n",
    "fig, axes = plt.subplots(7, model_num+1, figsize=(10, 10))\n",
    "\n",
    "# Plot the original frames.\n",
    "# for idx, ax in enumerate(axes[0]):\n",
    "#     ax.imshow(original[idx])\n",
    "#     ax.set_title(f\"Original Frame {idx}\")\n",
    "#     ax.axis(\"off\")\n",
    "\n",
    "# for i in range(model_num):\n",
    "#     for idx, ax in enumerate(axes[i+1]):\n",
    "#         ax.imshow(predicts[i][idx])\n",
    "#         ax.set_title(f\"Predicted Frame {idx}\")\n",
    "#         ax.axis(\"off\")\n",
    "\n",
    "for i in range(7):\n",
    "    for idx, ax in enumerate(axes[i]):\n",
    "        if idx==0:\n",
    "            ax.imshow(original[i])\n",
    "            ax.set_title(f\"Original Frame {i}\")\n",
    "            ax.axis(\"off\")\n",
    "        elif idx==1:\n",
    "            ax.imshow(predicts[0][i])\n",
    "            ax.set_title(f\"predicted Frame {i}\")\n",
    "            ax.axis(\"off\")\n",
    "        elif idx==2:\n",
    "            ax.imshow(predicts[1][i])\n",
    "            ax.set_title(f\"predicted Frame {i}\")\n",
    "            ax.axis(\"off\")\n",
    "        else:\n",
    "            ax.imshow(predicts[2][i])\n",
    "            ax.set_title(f\"predicted Frame {i}\")\n",
    "            ax.axis(\"off\")"
   ]
  },
  {
   "cell_type": "code",
   "execution_count": null,
   "metadata": {},
   "outputs": [],
   "source": []
  }
 ],
 "metadata": {
  "interpreter": {
   "hash": "1f2f07b9f7d5bed60c004f4cd3de358c3e4a13a9414f2e3827565844202afde0"
  },
  "kernelspec": {
   "display_name": "Python 3.8.11 64-bit ('convlnote': conda)",
   "name": "python3"
  },
  "language_info": {
   "codemirror_mode": {
    "name": "ipython",
    "version": 3
   },
   "file_extension": ".py",
   "mimetype": "text/x-python",
   "name": "python",
   "nbconvert_exporter": "python",
   "pygments_lexer": "ipython3",
   "version": "3.8.11"
  },
  "orig_nbformat": 4
 },
 "nbformat": 4,
 "nbformat_minor": 2
}
