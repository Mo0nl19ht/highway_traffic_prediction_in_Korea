{
 "cells": [
  {
   "cell_type": "code",
   "execution_count": 1,
   "metadata": {},
   "outputs": [],
   "source": [
    "import numpy as np\n",
    "import pandas as pd\n",
    "import os\n",
    "from PIL import Image"
   ]
  },
  {
   "cell_type": "code",
   "execution_count": 15,
   "metadata": {},
   "outputs": [],
   "source": [
    "path=\"D:/2017_2020_img/\"\n",
    "\n",
    "indexs=os.listdir(path)\n",
    "indexs_2017=[]\n",
    "indexs_2018=[]\n",
    "indexs_2019=[]\n",
    "indexs_2020=[]\n",
    "\n",
    "for i in indexs:\n",
    "    if i.startswith(\"2017\"):\n",
    "        indexs_2017.append(i)\n",
    "    elif i.startswith(\"2018\"):\n",
    "        indexs_2018.append(i)\n",
    "    elif i.startswith(\"2019\"):\n",
    "        indexs_2019.append(i)\n",
    "    elif i.startswith(\"2020\"):\n",
    "        indexs_2020.append(i)\n",
    "    else:\n",
    "        print(i)"
   ]
  },
  {
   "cell_type": "code",
   "execution_count": 30,
   "metadata": {},
   "outputs": [],
   "source": [
    "def make_batch_x(path,index):\n",
    "    x=[]\n",
    "    for i in range(0,len(index)):\n",
    "        if i==len(index)-8:\n",
    "            break\n",
    "        data=[]\n",
    "    #     print(indexs[i],indexs[i+5])\n",
    "        for v in index[i:i+8]:\n",
    "            \n",
    "            img=Image.open(path+v).convert(\"RGB\")\n",
    "            num_img = np.array(img)\n",
    "            num_img= num_img / 255\n",
    "            #gray일때 dimension추가\n",
    "            # num_img= np.expand_dims(num_img,axis=-1)\n",
    "            data.append(num_img)\n",
    "        x.append(data)\n",
    "    return np.array(x)\n"
   ]
  },
  {
   "cell_type": "code",
   "execution_count": 31,
   "metadata": {},
   "outputs": [],
   "source": [
    "def make_batch_y(path,index):\n",
    "    y=[]\n",
    "    index=index[1:]\n",
    "    for i in range(0,len(index)):\n",
    "        if i==len(index)-7:\n",
    "            break\n",
    "        data=[]\n",
    "        for v in index[i:i+8]:\n",
    "            img=Image.open(path+v).convert(\"RGB\")\n",
    "            num_img = np.array(img)\n",
    "            num_img= num_img / 255\n",
    "            #gray일때 dimension추가\n",
    "            # num_img= np.expand_dims(num_img,axis=-1)\n",
    "            data.append(num_img)\n",
    "        y.append(data)\n",
    "    return np.array(y)\n"
   ]
  },
  {
   "cell_type": "code",
   "execution_count": 32,
   "metadata": {},
   "outputs": [
    {
     "data": {
      "text/plain": [
       "((296, 8, 302, 176, 3), (296, 8, 302, 176, 3))"
      ]
     },
     "execution_count": 32,
     "metadata": {},
     "output_type": "execute_result"
    }
   ],
   "source": [
    "x_2017=make_batch_x(path,indexs_2017)\n",
    "y_2017=make_batch_y(path,indexs_2017)\n",
    "x_2017.shape ,y_2017.shape\n"
   ]
  },
  {
   "cell_type": "code",
   "execution_count": 33,
   "metadata": {},
   "outputs": [
    {
     "data": {
      "text/plain": [
       "((309, 8, 302, 176, 3), (309, 8, 302, 176, 3))"
      ]
     },
     "execution_count": 33,
     "metadata": {},
     "output_type": "execute_result"
    }
   ],
   "source": [
    "x_2018=make_batch_x(path,indexs_2018)\n",
    "y_2018=make_batch_y(path,indexs_2018)\n",
    "x_2018.shape ,y_2018.shape"
   ]
  },
  {
   "cell_type": "code",
   "execution_count": 34,
   "metadata": {},
   "outputs": [
    {
     "data": {
      "text/plain": [
       "((357, 8, 302, 176, 3), (357, 8, 302, 176, 3))"
      ]
     },
     "execution_count": 34,
     "metadata": {},
     "output_type": "execute_result"
    }
   ],
   "source": [
    "x_2019=make_batch_x(path,indexs_2019)\n",
    "y_2019=make_batch_y(path,indexs_2019)\n",
    "x_2019.shape ,y_2019.shape"
   ]
  },
  {
   "cell_type": "code",
   "execution_count": 21,
   "metadata": {},
   "outputs": [],
   "source": [
    "# np.savez(\"D:/npz_7/x_2017.npz\",x=x_2017)\n",
    "# np.savez(\"D:/npz_7/x_2018.npz\",x=x_2018)\n",
    "# np.savez(\"D:/npz_7/x_2019.npz\",x=x_2019)"
   ]
  },
  {
   "cell_type": "code",
   "execution_count": 22,
   "metadata": {},
   "outputs": [],
   "source": [
    "# np.savez(\"D:/npz_7/y_2017.npz\",y=y_2017)\n",
    "# np.savez(\"D:/npz_7/y_2018.npz\",y=y_2018)\n",
    "# np.savez(\"D:/npz_7/y_2019.npz\",y=y_2019)"
   ]
  },
  {
   "cell_type": "code",
   "execution_count": 35,
   "metadata": {},
   "outputs": [
    {
     "data": {
      "text/plain": [
       "(962, 8, 302, 176, 3)"
      ]
     },
     "execution_count": 35,
     "metadata": {},
     "output_type": "execute_result"
    }
   ],
   "source": [
    "x=np.concatenate([x_2017,x_2018,x_2019])\n",
    "x.shape"
   ]
  },
  {
   "cell_type": "code",
   "execution_count": 36,
   "metadata": {},
   "outputs": [
    {
     "data": {
      "text/plain": [
       "(962, 8, 302, 176, 3)"
      ]
     },
     "execution_count": 36,
     "metadata": {},
     "output_type": "execute_result"
    }
   ],
   "source": [
    "y=np.concatenate([y_2017,y_2018,y_2019])\n",
    "y.shape"
   ]
  },
  {
   "cell_type": "code",
   "execution_count": 37,
   "metadata": {},
   "outputs": [],
   "source": [
    "# np.savez(\"D:/npz_8/x_2017_2019.npz\",x=x)\n",
    "# np.savez(\"D:/npz_8/y_2017_2019.npz\",y=y)"
   ]
  },
  {
   "cell_type": "code",
   "execution_count": null,
   "metadata": {},
   "outputs": [
    {
     "data": {
      "text/plain": [
       "(965, 6, 302, 176, 4)"
      ]
     },
     "execution_count": 31,
     "metadata": {},
     "output_type": "execute_result"
    }
   ],
   "source": [
    "x.shape"
   ]
  },
  {
   "cell_type": "markdown",
   "metadata": {},
   "source": [
    "# 배치만들기"
   ]
  },
  {
   "cell_type": "code",
   "execution_count": 38,
   "metadata": {},
   "outputs": [],
   "source": [
    "# x=np.load(\"D:/npz_8/x_2017_2019.npz\")['x']\n",
    "# y=np.load(\"D:/npz_8/y_2017_2019.npz\")['y']"
   ]
  },
  {
   "cell_type": "code",
   "execution_count": 39,
   "metadata": {},
   "outputs": [
    {
     "name": "stdout",
     "output_type": "stream",
     "text": [
      "(962, 8, 302, 176, 3) (962, 8, 302, 176, 3)\n"
     ]
    }
   ],
   "source": [
    "print(x.shape,y.shape)"
   ]
  },
  {
   "cell_type": "code",
   "execution_count": 40,
   "metadata": {},
   "outputs": [],
   "source": [
    "\n",
    "cnt=0\n",
    "for i in range(0,966,16):\n",
    "    np.savez(f\"D:/npz_8/batch/x/{cnt}.npz\",x=x[i:i+16])\n",
    "    np.savez(f\"D:/npz_8/batch/y/{cnt}.npz\",y=y[i:i+16])\n",
    "    cnt+=1\n",
    "    "
   ]
  },
  {
   "cell_type": "code",
   "execution_count": 41,
   "metadata": {},
   "outputs": [
    {
     "data": {
      "text/plain": [
       "(16, 8, 302, 176, 3)"
      ]
     },
     "execution_count": 41,
     "metadata": {},
     "output_type": "execute_result"
    }
   ],
   "source": [
    "dfsg=np.load(f\"D:/npz_8/batch/x/{1}.npz\")\n",
    "dfsg=dfsg['x']\n",
    "dfsg.shape"
   ]
  },
  {
   "cell_type": "code",
   "execution_count": 44,
   "metadata": {},
   "outputs": [
    {
     "name": "stdout",
     "output_type": "stream",
     "text": [
      "15\n",
      "(16, 7, 302, 176, 3)\n",
      "31\n",
      "(16, 7, 302, 176, 3)\n",
      "47\n",
      "(16, 7, 302, 176, 3)\n",
      "63\n",
      "(16, 7, 302, 176, 3)\n",
      "79\n",
      "(16, 7, 302, 176, 3)\n",
      "95\n",
      "(16, 7, 302, 176, 3)\n",
      "111\n",
      "(16, 7, 302, 176, 3)\n",
      "127\n",
      "(16, 7, 302, 176, 3)\n",
      "143\n",
      "(16, 7, 302, 176, 3)\n",
      "159\n",
      "(16, 7, 302, 176, 3)\n",
      "175\n",
      "175에서 오류\n"
     ]
    },
    {
     "name": "stderr",
     "output_type": "stream",
     "text": [
      "C:\\Users\\test\\AppData\\Local\\Temp/ipykernel_18320/1639032992.py:19: VisibleDeprecationWarning: Creating an ndarray from ragged nested sequences (which is a list-or-tuple of lists-or-tuples-or ndarrays with different lengths or shapes) is deprecated. If you meant to do this, you must specify 'dtype=object' when creating the ndarray.\n",
      "  x_2020=np.array(x_2020)\n"
     ]
    },
    {
     "name": "stdout",
     "output_type": "stream",
     "text": [
      "191\n",
      "(16, 7, 302, 176, 3)\n",
      "207\n",
      "(16, 7, 302, 176, 3)\n",
      "223\n",
      "(16, 7, 302, 176, 3)\n",
      "239\n",
      "(16, 7, 302, 176, 3)\n",
      "255\n",
      "(16, 7, 302, 176, 3)\n",
      "271\n",
      "(16, 7, 302, 176, 3)\n",
      "287\n",
      "(16, 7, 302, 176, 3)\n",
      "303\n",
      "(16, 7, 302, 176, 3)\n",
      "319\n",
      "(16, 7, 302, 176, 3)\n",
      "335\n",
      "(16, 7, 302, 176, 3)\n"
     ]
    }
   ],
   "source": [
    "x_2020=[]\n",
    "cnt=0\n",
    "for i in range(0,len(indexs_2020)):\n",
    "    if i==len(indexs_2020)-7:\n",
    "        break\n",
    "    data=[]\n",
    "    for v in indexs_2020[i:i+7]:\n",
    "        \n",
    "        img=Image.open(path+v).convert(\"RGB\")\n",
    "        num_img = np.array(img)\n",
    "        num_img= num_img / 255\n",
    "        #gray일때 dimension추가\n",
    "        # num_img= np.expand_dims(num_img,axis=-1)\n",
    "        data.append(num_img)\n",
    "    x_2020.append(data)\n",
    "    if (i+1)%16==0:\n",
    "        print(i)\n",
    "        try:\n",
    "            x_2020=np.array(x_2020)\n",
    "            print(x_2020.shape)\n",
    "            np.savez(f\"D:/npz_7/2020/{cnt}.npz\",x=x_2020)\n",
    "            cnt+=1\n",
    "        except:\n",
    "            print(f\"{i}에서 오류\")\n",
    "        x_2020=[]\n",
    "        "
   ]
  },
  {
   "cell_type": "code",
   "execution_count": null,
   "metadata": {},
   "outputs": [],
   "source": []
  }
 ],
 "metadata": {
  "interpreter": {
   "hash": "1f2f07b9f7d5bed60c004f4cd3de358c3e4a13a9414f2e3827565844202afde0"
  },
  "kernelspec": {
   "display_name": "Python 3.8.11 64-bit ('convlnote': conda)",
   "name": "python3"
  },
  "language_info": {
   "codemirror_mode": {
    "name": "ipython",
    "version": 3
   },
   "file_extension": ".py",
   "mimetype": "text/x-python",
   "name": "python",
   "nbconvert_exporter": "python",
   "pygments_lexer": "ipython3",
   "version": "3.8.11"
  }
 },
 "nbformat": 4,
 "nbformat_minor": 4
}
