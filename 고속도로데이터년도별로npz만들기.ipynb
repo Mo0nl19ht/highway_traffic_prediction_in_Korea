{
 "cells": [
  {
   "cell_type": "code",
   "execution_count": 2,
   "metadata": {},
   "outputs": [],
   "source": [
    "import numpy as np\n",
    "import pandas as pd\n",
    "import os\n",
    "from PIL import Image"
   ]
  },
  {
   "cell_type": "code",
   "execution_count": 50,
   "metadata": {},
   "outputs": [],
   "source": [
    "path=\"D:/2017_2020_내부순환_classification_img/\"\n",
    "\n",
    "indexs=os.listdir(path)\n",
    "indexs_2017=[]\n",
    "indexs_2018=[]\n",
    "indexs_2019=[]\n",
    "indexs_2020=[]\n",
    "\n",
    "for i in indexs:\n",
    "    if i.startswith(\"2017\"):\n",
    "        indexs_2017.append(i)\n",
    "    elif i.startswith(\"2018\"):\n",
    "        indexs_2018.append(i)\n",
    "    elif i.startswith(\"2019\"):\n",
    "        indexs_2019.append(i)\n",
    "    elif i.startswith(\"2020\"):\n",
    "        indexs_2020.append(i)\n",
    "    else:\n",
    "        print(i)"
   ]
  },
  {
   "cell_type": "code",
   "execution_count": 51,
   "metadata": {},
   "outputs": [
    {
     "data": {
      "text/plain": [
       "(298, 6, 302, 176, 3)"
      ]
     },
     "execution_count": 51,
     "metadata": {},
     "output_type": "execute_result"
    }
   ],
   "source": [
    "x_2017=[]\n",
    "for i in range(0,len(indexs_2017)):\n",
    "    if i==len(indexs_2017)-6:\n",
    "        break\n",
    "    data=[]\n",
    "#     print(indexs[i],indexs[i+5])\n",
    "    for v in indexs_2017[i:i+6]:\n",
    "        \n",
    "        img=Image.open(path+v).convert('RGB')\n",
    "        num_img = np.array(img)\n",
    "        num_img= num_img / 255\n",
    "        data.append(num_img)\n",
    "    x_2017.append(data)\n",
    "    \n",
    "x_2017=np.array(x_2017)\n",
    "x_2017.shape\n"
   ]
  },
  {
   "cell_type": "code",
   "execution_count": 52,
   "metadata": {},
   "outputs": [
    {
     "data": {
      "text/plain": [
       "(298, 6, 302, 176, 3)"
      ]
     },
     "execution_count": 52,
     "metadata": {},
     "output_type": "execute_result"
    }
   ],
   "source": [
    "indexs_2017=indexs_2017[1:]\n",
    "y_2017=[]\n",
    "for i in range(0,len(indexs_2017)):\n",
    "    if i==len(indexs_2017)-5:\n",
    "        break\n",
    "    data=[]\n",
    "#     print(indexs[i],indexs[i+5])\n",
    "    for v in indexs_2017[i:i+6]:\n",
    "        \n",
    "        img=Image.open(path+v).convert('RGB')\n",
    "        num_img = np.array(img)\n",
    "        num_img= num_img / 255\n",
    "        data.append(num_img)\n",
    "    y_2017.append(data)\n",
    "    \n",
    "y_2017=np.array(y_2017)\n",
    "y_2017.shape"
   ]
  },
  {
   "cell_type": "code",
   "execution_count": 53,
   "metadata": {},
   "outputs": [
    {
     "data": {
      "text/plain": [
       "(311, 6, 302, 176, 3)"
      ]
     },
     "execution_count": 53,
     "metadata": {},
     "output_type": "execute_result"
    }
   ],
   "source": [
    "x_2018=[]\n",
    "for i in range(0,len(indexs_2018)):\n",
    "    if i==len(indexs_2018)-6:\n",
    "        break\n",
    "    data=[]\n",
    "    for v in indexs_2018[i:i+6]:\n",
    "        \n",
    "        img=Image.open(path+v).convert('RGB')\n",
    "        num_img = np.array(img)\n",
    "        num_img= num_img / 255\n",
    "        data.append(num_img)\n",
    "    x_2018.append(data)\n",
    "    \n",
    "x_2018=np.array(x_2018)\n",
    "x_2018.shape\n"
   ]
  },
  {
   "cell_type": "code",
   "execution_count": 54,
   "metadata": {},
   "outputs": [
    {
     "data": {
      "text/plain": [
       "(311, 6, 302, 176, 3)"
      ]
     },
     "execution_count": 54,
     "metadata": {},
     "output_type": "execute_result"
    }
   ],
   "source": [
    "indexs_2018=indexs_2018[1:]\n",
    "y_2018=[]\n",
    "for i in range(0,len(indexs_2018)):\n",
    "    if i==len(indexs_2018)-5:\n",
    "        break\n",
    "    data=[]\n",
    "    for v in indexs_2018[i:i+6]:\n",
    "        \n",
    "        img=Image.open(path+v).convert('RGB')\n",
    "        num_img = np.array(img)\n",
    "        num_img= num_img / 255\n",
    "        data.append(num_img)\n",
    "    y_2018.append(data)\n",
    "    \n",
    "y_2018=np.array(y_2018)\n",
    "y_2018.shape"
   ]
  },
  {
   "cell_type": "code",
   "execution_count": 55,
   "metadata": {},
   "outputs": [
    {
     "data": {
      "text/plain": [
       "(359, 6, 302, 176, 3)"
      ]
     },
     "execution_count": 55,
     "metadata": {},
     "output_type": "execute_result"
    }
   ],
   "source": [
    "x_2019=[]\n",
    "for i in range(0,len(indexs_2019)):\n",
    "    if i==len(indexs_2019)-6:\n",
    "        break\n",
    "    data=[]\n",
    "#     print(indexs[i],indexs[i+5])\n",
    "    for v in indexs_2019[i:i+6]:\n",
    "        \n",
    "        img=Image.open(path+v).convert('RGB')\n",
    "        num_img = np.array(img)\n",
    "        num_img= num_img / 255\n",
    "        data.append(num_img)\n",
    "    x_2019.append(data)\n",
    "    \n",
    "x_2019=np.array(x_2019)\n",
    "x_2019.shape\n"
   ]
  },
  {
   "cell_type": "code",
   "execution_count": 56,
   "metadata": {},
   "outputs": [
    {
     "data": {
      "text/plain": [
       "(359, 6, 302, 176, 3)"
      ]
     },
     "execution_count": 56,
     "metadata": {},
     "output_type": "execute_result"
    }
   ],
   "source": [
    "indexs_2019=indexs_2019[1:]\n",
    "y_2019=[]\n",
    "for i in range(0,len(indexs_2019)):\n",
    "    if i==len(indexs_2019)-5:\n",
    "        break\n",
    "    data=[]\n",
    "#     print(indexs[i],indexs[i+5])\n",
    "    for v in indexs_2019[i:i+6]:\n",
    "        \n",
    "        img=Image.open(path+v).convert('RGB')\n",
    "        num_img = np.array(img)\n",
    "        num_img= num_img / 255\n",
    "        data.append(num_img)\n",
    "    y_2019.append(data)\n",
    "    \n",
    "y_2019=np.array(y_2019)\n",
    "y_2019.shape"
   ]
  },
  {
   "cell_type": "code",
   "execution_count": 57,
   "metadata": {},
   "outputs": [
    {
     "name": "stderr",
     "output_type": "stream",
     "text": [
      "C:\\Users\\test\\AppData\\Local\\Temp/ipykernel_9204/2382575508.py:16: VisibleDeprecationWarning: Creating an ndarray from ragged nested sequences (which is a list-or-tuple of lists-or-tuples-or ndarrays with different lengths or shapes) is deprecated. If you meant to do this, you must specify 'dtype=object' when creating the ndarray.\n",
      "  x_2020=np.array(x_2020)\n"
     ]
    },
    {
     "ename": "ValueError",
     "evalue": "could not broadcast input array from shape (302,176,3) into shape (302,)",
     "output_type": "error",
     "traceback": [
      "\u001b[1;31m---------------------------------------------------------------------------\u001b[0m",
      "\u001b[1;31mValueError\u001b[0m                                Traceback (most recent call last)",
      "\u001b[1;32m~\\AppData\\Local\\Temp/ipykernel_9204/2382575508.py\u001b[0m in \u001b[0;36m<module>\u001b[1;34m\u001b[0m\n\u001b[0;32m     14\u001b[0m     \u001b[0mx_2020\u001b[0m\u001b[1;33m.\u001b[0m\u001b[0mappend\u001b[0m\u001b[1;33m(\u001b[0m\u001b[0mdata\u001b[0m\u001b[1;33m)\u001b[0m\u001b[1;33m\u001b[0m\u001b[1;33m\u001b[0m\u001b[0m\n\u001b[0;32m     15\u001b[0m \u001b[1;33m\u001b[0m\u001b[0m\n\u001b[1;32m---> 16\u001b[1;33m \u001b[0mx_2020\u001b[0m\u001b[1;33m=\u001b[0m\u001b[0mnp\u001b[0m\u001b[1;33m.\u001b[0m\u001b[0marray\u001b[0m\u001b[1;33m(\u001b[0m\u001b[0mx_2020\u001b[0m\u001b[1;33m)\u001b[0m\u001b[1;33m\u001b[0m\u001b[1;33m\u001b[0m\u001b[0m\n\u001b[0m\u001b[0;32m     17\u001b[0m \u001b[0mx_2020\u001b[0m\u001b[1;33m.\u001b[0m\u001b[0mshape\u001b[0m\u001b[1;33m\u001b[0m\u001b[1;33m\u001b[0m\u001b[0m\n",
      "\u001b[1;31mValueError\u001b[0m: could not broadcast input array from shape (302,176,3) into shape (302,)"
     ]
    }
   ],
   "source": [
    "indexs_2020=indexs_2020[:-20]\n",
    "x_2020=[]\n",
    "for i in range(0,len(indexs_2020)):\n",
    "    if i==len(indexs_2020)-6:\n",
    "        break\n",
    "    data=[]\n",
    "#     print(indexs[i],indexs[i+5])\n",
    "    for v in indexs_2020[i:i+6]:\n",
    "        \n",
    "        img=Image.open(path+v).convert('RGB')\n",
    "        num_img = np.array(img)\n",
    "        num_img= num_img / 255\n",
    "        data.append(num_img)\n",
    "    x_2020.append(data)\n",
    "    \n",
    "x_2020=np.array(x_2020)\n",
    "x_2020.shape\n"
   ]
  },
  {
   "cell_type": "code",
   "execution_count": null,
   "metadata": {},
   "outputs": [],
   "source": [
    "indexs_2020=indexs_2020[1:]\n",
    "y_2020=[]\n",
    "for i in range(0,len(indexs_2020)):\n",
    "    if i==len(indexs_2020)-5:\n",
    "        break\n",
    "    data=[]\n",
    "#     print(indexs[i],indexs[i+5])\n",
    "    for v in indexs_2020[i:i+6]:\n",
    "        \n",
    "        img=Image.open(path+v).convert('RGB')\n",
    "        num_img = np.array(img)\n",
    "        num_img= num_img / 255\n",
    "        data.append(num_img)\n",
    "    y_2020.append(data)\n",
    "    \n",
    "y_2020=np.array(y_2020)\n",
    "y_2020.shape"
   ]
  },
  {
   "cell_type": "code",
   "execution_count": 58,
   "metadata": {},
   "outputs": [],
   "source": [
    "np.savez(\"D:/npz_classification/x_2017.npz\",x=x_2017)\n",
    "np.savez(\"D:/npz_classification/x_2018.npz\",x=x_2018)\n",
    "np.savez(\"D:/npz_classification/x_2019.npz\",x=x_2019)"
   ]
  },
  {
   "cell_type": "code",
   "execution_count": 59,
   "metadata": {},
   "outputs": [],
   "source": [
    "np.savez(\"D:/npz_classification/y_2017.npz\",y=y_2017)\n",
    "np.savez(\"D:/npz_classification/y_2018.npz\",y=y_2018)\n",
    "np.savez(\"D:/npz_classification/y_2019.npz\",y=y_2019)"
   ]
  },
  {
   "cell_type": "code",
   "execution_count": 60,
   "metadata": {},
   "outputs": [
    {
     "data": {
      "text/plain": [
       "(968, 6, 302, 176, 3)"
      ]
     },
     "execution_count": 60,
     "metadata": {},
     "output_type": "execute_result"
    }
   ],
   "source": [
    "x=np.concatenate([x_2017,x_2018,x_2019])\n",
    "x.shape"
   ]
  },
  {
   "cell_type": "code",
   "execution_count": 61,
   "metadata": {},
   "outputs": [
    {
     "data": {
      "text/plain": [
       "(968, 6, 302, 176, 3)"
      ]
     },
     "execution_count": 61,
     "metadata": {},
     "output_type": "execute_result"
    }
   ],
   "source": [
    "y=np.concatenate([y_2017,y_2018,y_2019])\n",
    "y.shape"
   ]
  },
  {
   "cell_type": "code",
   "execution_count": 62,
   "metadata": {},
   "outputs": [],
   "source": [
    "np.savez(\"D:/npz_classification/x_2017_2019.npz\",x=x)\n",
    "np.savez(\"D:/npz_classification/y_2017_2019.npz\",y=y)"
   ]
  },
  {
   "cell_type": "code",
   "execution_count": 63,
   "metadata": {},
   "outputs": [
    {
     "data": {
      "text/plain": [
       "(968, 6, 302, 176, 3)"
      ]
     },
     "execution_count": 63,
     "metadata": {},
     "output_type": "execute_result"
    }
   ],
   "source": [
    "x.shape"
   ]
  },
  {
   "cell_type": "markdown",
   "metadata": {},
   "source": [
    "# 배치만들기"
   ]
  },
  {
   "cell_type": "code",
   "execution_count": 68,
   "metadata": {},
   "outputs": [],
   "source": [
    "x=np.load(\"D:/npz/x_2017_2019.npz\")['x']\n",
    "y=np.load(\"D:/npz/y_2017_2019.npz\")['y']"
   ]
  },
  {
   "cell_type": "code",
   "execution_count": 69,
   "metadata": {},
   "outputs": [
    {
     "name": "stdout",
     "output_type": "stream",
     "text": [
      "(967, 6, 302, 176, 3) (967, 6, 302, 176, 3)\n"
     ]
    }
   ],
   "source": [
    "print(x.shape,y.shape)"
   ]
  },
  {
   "cell_type": "code",
   "execution_count": 70,
   "metadata": {},
   "outputs": [],
   "source": [
    "\n",
    "cnt=0\n",
    "for i in range(0,966,23):\n",
    "    np.savez(f\"D:/npz/batch/x/{cnt}.npz\",x=x[i:i+23])\n",
    "    np.savez(f\"D:/npz/batch/y/{cnt}.npz\",y=y[i:i+23])\n",
    "    cnt+=1\n",
    "    "
   ]
  },
  {
   "cell_type": "code",
   "execution_count": 64,
   "metadata": {},
   "outputs": [],
   "source": [
    "cnt=0\n",
    "for i in range(0,966,23):\n",
    "    np.savez(f\"D:/npz_classification/batch/x/{cnt}.npz\",x=x[i:i+23])\n",
    "    np.savez(f\"D:/npz_classification/batch/y/{cnt}.npz\",y=y[i:i+23])\n",
    "    cnt+=1\n",
    "    "
   ]
  },
  {
   "cell_type": "code",
   "execution_count": 65,
   "metadata": {},
   "outputs": [
    {
     "data": {
      "text/plain": [
       "(23, 6, 302, 176, 3)"
      ]
     },
     "execution_count": 65,
     "metadata": {},
     "output_type": "execute_result"
    }
   ],
   "source": [
    "dfsg=np.load(f\"D:/npz_classification/batch/x/{1}.npz\")\n",
    "dfsg=dfsg['x']\n",
    "dfsg.shape"
   ]
  },
  {
   "cell_type": "code",
   "execution_count": 66,
   "metadata": {},
   "outputs": [
    {
     "name": "stdout",
     "output_type": "stream",
     "text": [
      "22\n",
      "(23, 6, 302, 176, 3)\n",
      "45\n",
      "(23, 6, 302, 176, 3)\n",
      "68\n",
      "(23, 6, 302, 176, 3)\n",
      "91\n",
      "(23, 6, 302, 176, 3)\n",
      "114\n",
      "(23, 6, 302, 176, 3)\n",
      "137\n",
      "(23, 6, 302, 176, 3)\n",
      "160\n",
      "(23, 6, 302, 176, 3)\n",
      "183\n",
      "183에서 오류\n"
     ]
    },
    {
     "name": "stderr",
     "output_type": "stream",
     "text": [
      "C:\\Users\\test\\AppData\\Local\\Temp/ipykernel_9204/4174847773.py:17: VisibleDeprecationWarning: Creating an ndarray from ragged nested sequences (which is a list-or-tuple of lists-or-tuples-or ndarrays with different lengths or shapes) is deprecated. If you meant to do this, you must specify 'dtype=object' when creating the ndarray.\n",
      "  x_2020=np.array(x_2020)\n"
     ]
    },
    {
     "name": "stdout",
     "output_type": "stream",
     "text": [
      "206\n",
      "(23, 6, 302, 176, 3)\n",
      "229\n",
      "(23, 6, 302, 176, 3)\n",
      "252\n",
      "(23, 6, 302, 176, 3)\n",
      "275\n",
      "(23, 6, 302, 176, 3)\n",
      "298\n",
      "(23, 6, 302, 176, 3)\n",
      "321\n",
      "(23, 6, 302, 176, 3)\n"
     ]
    }
   ],
   "source": [
    "x_2020=[]\n",
    "cnt=0\n",
    "for i in range(0,len(indexs_2020)):\n",
    "    if i==len(indexs_2020)-6:\n",
    "        break\n",
    "    data=[]\n",
    "    for v in indexs_2020[i:i+6]:\n",
    "        \n",
    "        img=Image.open(path+v).convert('RGB')\n",
    "        num_img = np.array(img)\n",
    "        num_img= num_img / 255\n",
    "        data.append(num_img)\n",
    "    x_2020.append(data)\n",
    "    if (i+1)%23==0:\n",
    "        print(i)\n",
    "        try:\n",
    "            x_2020=np.array(x_2020)\n",
    "            print(x_2020.shape)\n",
    "            np.savez(f\"D:/npz/2020/{cnt}.npz\",x=x_2020)\n",
    "            cnt+=1\n",
    "        except:\n",
    "            print(f\"{i}에서 오류\")\n",
    "        x_2020=[]\n",
    "        "
   ]
  },
  {
   "cell_type": "code",
   "execution_count": 67,
   "metadata": {},
   "outputs": [
    {
     "name": "stdout",
     "output_type": "stream",
     "text": [
      "22\n",
      "(23, 6, 302, 176, 3)\n",
      "45\n",
      "(23, 6, 302, 176, 3)\n",
      "68\n",
      "(23, 6, 302, 176, 3)\n",
      "91\n",
      "(23, 6, 302, 176, 3)\n",
      "114\n",
      "(23, 6, 302, 176, 3)\n",
      "137\n",
      "(23, 6, 302, 176, 3)\n",
      "160\n",
      "(23, 6, 302, 176, 3)\n",
      "183\n",
      "183에서 오류\n"
     ]
    },
    {
     "name": "stderr",
     "output_type": "stream",
     "text": [
      "C:\\Users\\test\\AppData\\Local\\Temp/ipykernel_9204/4174847773.py:17: VisibleDeprecationWarning: Creating an ndarray from ragged nested sequences (which is a list-or-tuple of lists-or-tuples-or ndarrays with different lengths or shapes) is deprecated. If you meant to do this, you must specify 'dtype=object' when creating the ndarray.\n",
      "  x_2020=np.array(x_2020)\n"
     ]
    },
    {
     "name": "stdout",
     "output_type": "stream",
     "text": [
      "206\n",
      "(23, 6, 302, 176, 3)\n",
      "229\n",
      "(23, 6, 302, 176, 3)\n",
      "252\n",
      "(23, 6, 302, 176, 3)\n",
      "275\n",
      "(23, 6, 302, 176, 3)\n",
      "298\n",
      "(23, 6, 302, 176, 3)\n",
      "321\n",
      "(23, 6, 302, 176, 3)\n"
     ]
    }
   ],
   "source": [
    "x_2020=[]\n",
    "cnt=0\n",
    "for i in range(0,len(indexs_2020)):\n",
    "    if i==len(indexs_2020)-6:\n",
    "        break\n",
    "    data=[]\n",
    "    for v in indexs_2020[i:i+6]:\n",
    "        \n",
    "        img=Image.open(path+v).convert('RGB')\n",
    "        num_img = np.array(img)\n",
    "        num_img= num_img / 255\n",
    "        data.append(num_img)\n",
    "    x_2020.append(data)\n",
    "    if (i+1)%23==0:\n",
    "        print(i)\n",
    "        try:\n",
    "            x_2020=np.array(x_2020)\n",
    "            print(x_2020.shape)\n",
    "            np.savez(f\"D:/npz_classification/2020/{cnt}.npz\",x=x_2020)\n",
    "            cnt+=1\n",
    "        except:\n",
    "            print(f\"{i}에서 오류\")\n",
    "        x_2020=[]\n",
    "        "
   ]
  },
  {
   "cell_type": "code",
   "execution_count": null,
   "metadata": {},
   "outputs": [],
   "source": []
  }
 ],
 "metadata": {
  "kernelspec": {
   "display_name": "Python 3 (ipykernel)",
   "language": "python",
   "name": "python3"
  },
  "language_info": {
   "codemirror_mode": {
    "name": "ipython",
    "version": 3
   },
   "file_extension": ".py",
   "mimetype": "text/x-python",
   "name": "python",
   "nbconvert_exporter": "python",
   "pygments_lexer": "ipython3",
   "version": "3.8.5"
  }
 },
 "nbformat": 4,
 "nbformat_minor": 4
}
