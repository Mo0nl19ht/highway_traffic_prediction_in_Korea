{
 "cells": [
  {
   "cell_type": "code",
   "execution_count": 2,
   "metadata": {},
   "outputs": [],
   "source": [
    "import numpy as np\n",
    "import pandas as pd\n",
    "import os\n",
    "from PIL import Image"
   ]
  },
  {
   "cell_type": "code",
   "execution_count": 116,
   "metadata": {},
   "outputs": [],
   "source": [
    "path=\"D:/2017_2020_강변_gray_0_100/\"\n",
    "\n",
    "indexs=os.listdir(path)\n",
    "indexs_2017=[]\n",
    "indexs_2018=[]\n",
    "indexs_2019=[]\n",
    "indexs_2020=[]\n",
    "\n",
    "for i in indexs:\n",
    "    if i.startswith(\"2017\"):\n",
    "        indexs_2017.append(i)\n",
    "    elif i.startswith(\"2018\"):\n",
    "        indexs_2018.append(i)\n",
    "    elif i.startswith(\"2019\"):\n",
    "        indexs_2019.append(i)\n",
    "    elif i.startswith(\"2020\"):\n",
    "        indexs_2020.append(i)\n",
    "    else:\n",
    "        print(i)"
   ]
  },
  {
   "cell_type": "code",
   "execution_count": 117,
   "metadata": {},
   "outputs": [
    {
     "data": {
      "text/plain": [
       "304"
      ]
     },
     "execution_count": 117,
     "metadata": {},
     "output_type": "execute_result"
    }
   ],
   "source": [
    "len(indexs_2017)"
   ]
  },
  {
   "cell_type": "code",
   "execution_count": 127,
   "metadata": {},
   "outputs": [],
   "source": [
    "def make_batch_x(path,index):\n",
    "    win=7\n",
    "    x=[]\n",
    "    n=0\n",
    "    for i in range(0,len(index)):\n",
    "        if i==len(index)-win-1:\n",
    "            break\n",
    "        data=[]\n",
    "        \n",
    "    #     print(indexs[i],indexs[i+5])\n",
    "        for v in index[i:i+win]:\n",
    "            \n",
    "            img=Image.open(path+v).convert('RGB')\n",
    "            if np.array(img).shape!=(24, 31, 3):\n",
    "                img=img.resize((31,24), Image.LANCZOS)\n",
    "                n+=1\n",
    "\n",
    "            num_img = np.array(img)\n",
    "            num_img= num_img / 255\n",
    "\n",
    "            \n",
    "            data.append(num_img)\n",
    "\n",
    "        x.append(data)\n",
    "    print(n)\n",
    "    return np.array(x)\n"
   ]
  },
  {
   "cell_type": "code",
   "execution_count": 128,
   "metadata": {},
   "outputs": [],
   "source": [
    "def make_batch_y(path,index):\n",
    "    win=7\n",
    "    y=[]\n",
    "    idx=index[1:]\n",
    "    for i in range(0,len(idx)):\n",
    "        if i==len(idx)-win:\n",
    "            break\n",
    "        data=[]\n",
    "        for v in idx[i:i+win]:\n",
    "            img=Image.open(path+v).convert('RGB')\n",
    "            if np.array(img).shape!=(24, 31, 3):\n",
    "                img=img.resize((31,24), Image.LANCZOS)\n",
    "            num_img = np.array(img)\n",
    "            num_img= num_img / 255\n",
    "\n",
    "            data.append(num_img)\n",
    "        y.append(data)\n",
    "    return np.array(y)\n"
   ]
  },
  {
   "cell_type": "code",
   "execution_count": 129,
   "metadata": {},
   "outputs": [
    {
     "name": "stdout",
     "output_type": "stream",
     "text": [
      "770\n"
     ]
    },
    {
     "data": {
      "text/plain": [
       "((296, 7, 24, 31, 3), (296, 7, 24, 31, 3))"
      ]
     },
     "execution_count": 129,
     "metadata": {},
     "output_type": "execute_result"
    }
   ],
   "source": [
    "x_2017=make_batch_x(path,indexs_2017)\n",
    "y_2017=make_batch_y(path,indexs_2017)\n",
    "x_2017.shape ,y_2017.shape"
   ]
  },
  {
   "cell_type": "code",
   "execution_count": 130,
   "metadata": {},
   "outputs": [
    {
     "name": "stdout",
     "output_type": "stream",
     "text": [
      "0\n"
     ]
    },
    {
     "data": {
      "text/plain": [
       "((310, 7, 24, 31, 3), (310, 7, 24, 31, 3))"
      ]
     },
     "execution_count": 130,
     "metadata": {},
     "output_type": "execute_result"
    }
   ],
   "source": [
    "x_2018=make_batch_x(path,indexs_2018)\n",
    "y_2018=make_batch_y(path,indexs_2018)\n",
    "x_2018.shape ,y_2018.shape"
   ]
  },
  {
   "cell_type": "code",
   "execution_count": 131,
   "metadata": {},
   "outputs": [
    {
     "name": "stdout",
     "output_type": "stream",
     "text": [
      "0\n"
     ]
    },
    {
     "data": {
      "text/plain": [
       "((357, 7, 24, 31, 3), (357, 7, 24, 31, 3))"
      ]
     },
     "execution_count": 131,
     "metadata": {},
     "output_type": "execute_result"
    }
   ],
   "source": [
    "x_2019=make_batch_x(path,indexs_2019)\n",
    "y_2019=make_batch_y(path,indexs_2019)\n",
    "x_2019.shape ,y_2019.shape"
   ]
  },
  {
   "cell_type": "code",
   "execution_count": 132,
   "metadata": {},
   "outputs": [],
   "source": [
    "# np.savez(\"D:/npz_gray/x_2017.npz\",x=x_2017)\n",
    "# np.savez(\"D:/npz_gray/x_2018.npz\",x=x_2018)\n",
    "# np.savez(\"D:/npz_gray/x_2019.npz\",x=x_2019)"
   ]
  },
  {
   "cell_type": "code",
   "execution_count": 133,
   "metadata": {},
   "outputs": [],
   "source": [
    "# np.savez(\"D:/npz_gray/y_2017.npz\",y=y_2017)\n",
    "# np.savez(\"D:/npz_gray/y_2018.npz\",y=y_2018)\n",
    "# np.savez(\"D:/npz_gray/y_2019.npz\",y=y_2019)"
   ]
  },
  {
   "cell_type": "code",
   "execution_count": 134,
   "metadata": {},
   "outputs": [
    {
     "data": {
      "text/plain": [
       "(963, 7, 24, 31, 3)"
      ]
     },
     "execution_count": 134,
     "metadata": {},
     "output_type": "execute_result"
    }
   ],
   "source": [
    "x=np.concatenate([x_2017,x_2018,x_2019])\n",
    "x.shape"
   ]
  },
  {
   "cell_type": "code",
   "execution_count": 135,
   "metadata": {},
   "outputs": [
    {
     "data": {
      "text/plain": [
       "(963, 7, 24, 31, 3)"
      ]
     },
     "execution_count": 135,
     "metadata": {},
     "output_type": "execute_result"
    }
   ],
   "source": [
    "y=np.concatenate([y_2017,y_2018,y_2019])\n",
    "y.shape"
   ]
  },
  {
   "cell_type": "code",
   "execution_count": 136,
   "metadata": {},
   "outputs": [],
   "source": [
    "# np.savez(\"D:/npz_gray/x_2017_2019.npz\",x=x)\n",
    "# np.savez(\"D:/npz_gray/y_2017_2019.npz\",y=y)"
   ]
  },
  {
   "cell_type": "code",
   "execution_count": 137,
   "metadata": {},
   "outputs": [
    {
     "data": {
      "text/plain": [
       "(963, 7, 24, 31, 3)"
      ]
     },
     "execution_count": 137,
     "metadata": {},
     "output_type": "execute_result"
    }
   ],
   "source": [
    "x.shape"
   ]
  },
  {
   "cell_type": "markdown",
   "metadata": {},
   "source": [
    "# 배치만들기"
   ]
  },
  {
   "cell_type": "code",
   "execution_count": 15,
   "metadata": {},
   "outputs": [],
   "source": [
    "# x=np.load(\"D:/npz_gray/x_2017_2019.npz\")['x']\n",
    "# y=np.load(\"D:/npz_gray/y_2017_2019.npz\")['y']"
   ]
  },
  {
   "cell_type": "code",
   "execution_count": 138,
   "metadata": {},
   "outputs": [
    {
     "name": "stdout",
     "output_type": "stream",
     "text": [
      "(963, 7, 24, 31, 3) (963, 7, 24, 31, 3)\n"
     ]
    }
   ],
   "source": [
    "print(x.shape,y.shape)"
   ]
  },
  {
   "cell_type": "code",
   "execution_count": 140,
   "metadata": {},
   "outputs": [],
   "source": [
    "\n",
    "cnt=0\n",
    "batch=32\n",
    "folder_name=\"npz_gray_강변\"\n",
    "for i in range(0,962,batch):\n",
    "    np.savez(f\"D:/{folder_name}/batch/x/{cnt}.npz\",x=np.expand_dims(x[i:i+batch,:,:,:,0],axis=-1))\n",
    "    np.savez(f\"D:/{folder_name}/batch/y/{cnt}.npz\",y=np.expand_dims(y[i:i+batch,:,:,:,0],axis=-1))\n",
    "    cnt+=1\n",
    "    "
   ]
  },
  {
   "cell_type": "code",
   "execution_count": 141,
   "metadata": {},
   "outputs": [],
   "source": [
    "x_2020=[]\n",
    "cnt=0\n",
    "win=7\n",
    "\n",
    "for i in range(0,len(indexs_2020)):\n",
    "    if i==len(indexs_2020)-win:\n",
    "        break\n",
    "    data=[]\n",
    "    for v in indexs_2020[i:i+win]:\n",
    "        \n",
    "        img=Image.open(path+v).convert(\"RGB\")\n",
    "        num_img = np.array(img)\n",
    "        num_img= num_img / 255\n",
    "        #gray일때 dimension추가\n",
    "        # num_img= np.expand_dims(num_img,axis=-1)\n",
    "        data.append(num_img)\n",
    "    x_2020.append(data)\n",
    "    if (i+1)%batch==0:\n",
    "        try:\n",
    "            x_2020=np.array(x_2020)\n",
    "            np.savez(f\"D:/{folder_name}/2020/{cnt}.npz\",np.expand_dims(x[i:i+batch,:,:,:,0],axis=-1))\n",
    "            cnt+=1\n",
    "        except:\n",
    "            print(f\"{i}에서 오류\")\n",
    "        x_2020=[]\n",
    "        "
   ]
  },
  {
   "cell_type": "code",
   "execution_count": null,
   "metadata": {},
   "outputs": [],
   "source": []
  }
 ],
 "metadata": {
  "interpreter": {
   "hash": "1f2f07b9f7d5bed60c004f4cd3de358c3e4a13a9414f2e3827565844202afde0"
  },
  "kernelspec": {
   "display_name": "Python 3.8.11 64-bit ('convlnote': conda)",
   "name": "python3"
  },
  "language_info": {
   "codemirror_mode": {
    "name": "ipython",
    "version": 3
   },
   "file_extension": ".py",
   "mimetype": "text/x-python",
   "name": "python",
   "nbconvert_exporter": "python",
   "pygments_lexer": "ipython3",
   "version": "3.8.11"
  }
 },
 "nbformat": 4,
 "nbformat_minor": 4
}
