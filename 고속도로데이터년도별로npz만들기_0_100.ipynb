{
 "cells": [
  {
   "cell_type": "code",
   "execution_count": 1,
   "metadata": {},
   "outputs": [],
   "source": [
    "import numpy as np\n",
    "import pandas as pd\n",
    "import os\n",
    "from PIL import Image"
   ]
  },
  {
   "cell_type": "code",
   "execution_count": 2,
   "metadata": {},
   "outputs": [],
   "source": [
    "path=\"D:/2017_2020_내부순환_gray_0_100/\"\n",
    "\n",
    "indexs=os.listdir(path)\n",
    "indexs_2017=[]\n",
    "indexs_2018=[]\n",
    "indexs_2019=[]\n",
    "indexs_2020=[]\n",
    "\n",
    "for i in indexs:\n",
    "    if i.startswith(\"2017\"):\n",
    "        indexs_2017.append(i)\n",
    "    elif i.startswith(\"2018\"):\n",
    "        indexs_2018.append(i)\n",
    "    elif i.startswith(\"2019\"):\n",
    "        indexs_2019.append(i)\n",
    "    elif i.startswith(\"2020\"):\n",
    "        indexs_2020.append(i)\n",
    "    else:\n",
    "        print(i)"
   ]
  },
  {
   "cell_type": "code",
   "execution_count": 3,
   "metadata": {},
   "outputs": [
    {
     "data": {
      "text/plain": [
       "304"
      ]
     },
     "execution_count": 3,
     "metadata": {},
     "output_type": "execute_result"
    }
   ],
   "source": [
    "len(indexs_2017)"
   ]
  },
  {
   "cell_type": "code",
   "execution_count": 4,
   "metadata": {},
   "outputs": [],
   "source": [
    "def make_batch_x(path,index):\n",
    "    win=7\n",
    "    x=[]\n",
    "    for i in range(0,len(index)):\n",
    "        if i==len(index)-win-1:\n",
    "            break\n",
    "        data=[]\n",
    "    #     print(indexs[i],indexs[i+5])\n",
    "        for v in index[i:i+win]:\n",
    "            \n",
    "            img=Image.open(path+v).convert('RGB')\n",
    "            num_img = np.array(img)\n",
    "            num_img= num_img / 255\n",
    "            #gray일때 dimension추가\n",
    "            # num_img= np.expand_dims(num_img,axis=-1)\n",
    "            data.append(num_img)\n",
    "        x.append(data)\n",
    "    return np.array(x)\n"
   ]
  },
  {
   "cell_type": "code",
   "execution_count": 5,
   "metadata": {},
   "outputs": [],
   "source": [
    "def make_batch_y(path,index):\n",
    "    win=7\n",
    "    y=[]\n",
    "    index=index[1:]\n",
    "    for i in range(0,len(index)):\n",
    "        if i==len(index)-win:\n",
    "            break\n",
    "        data=[]\n",
    "        for v in index[i:i+win]:\n",
    "            img=Image.open(path+v).convert('RGB')\n",
    "            num_img = np.array(img)\n",
    "            num_img= num_img / 255\n",
    "            #gray일때 dimension추가\n",
    "            # num_img= np.expand_dims(num_img,axis=-1)\n",
    "            data.append(num_img)\n",
    "        y.append(data)\n",
    "    return np.array(y)\n"
   ]
  },
  {
   "cell_type": "code",
   "execution_count": 6,
   "metadata": {},
   "outputs": [
    {
     "data": {
      "text/plain": [
       "((296, 7, 24, 14, 3), (296, 7, 24, 14, 3))"
      ]
     },
     "execution_count": 6,
     "metadata": {},
     "output_type": "execute_result"
    }
   ],
   "source": [
    "x_2017=make_batch_x(path,indexs_2017)\n",
    "y_2017=make_batch_y(path,indexs_2017)\n",
    "x_2017.shape ,y_2017.shape\n"
   ]
  },
  {
   "cell_type": "code",
   "execution_count": 7,
   "metadata": {},
   "outputs": [
    {
     "data": {
      "text/plain": [
       "((309, 7, 24, 14, 3), (309, 7, 24, 14, 3))"
      ]
     },
     "execution_count": 7,
     "metadata": {},
     "output_type": "execute_result"
    }
   ],
   "source": [
    "x_2018=make_batch_x(path,indexs_2018)\n",
    "y_2018=make_batch_y(path,indexs_2018)\n",
    "x_2018.shape ,y_2018.shape"
   ]
  },
  {
   "cell_type": "code",
   "execution_count": 8,
   "metadata": {},
   "outputs": [
    {
     "data": {
      "text/plain": [
       "((357, 7, 24, 14, 3), (357, 7, 24, 14, 3))"
      ]
     },
     "execution_count": 8,
     "metadata": {},
     "output_type": "execute_result"
    }
   ],
   "source": [
    "x_2019=make_batch_x(path,indexs_2019)\n",
    "y_2019=make_batch_y(path,indexs_2019)\n",
    "x_2019.shape ,y_2019.shape"
   ]
  },
  {
   "cell_type": "code",
   "execution_count": 9,
   "metadata": {},
   "outputs": [],
   "source": [
    "# np.savez(\"D:/npz_gray/x_2017.npz\",x=x_2017)\n",
    "# np.savez(\"D:/npz_gray/x_2018.npz\",x=x_2018)\n",
    "# np.savez(\"D:/npz_gray/x_2019.npz\",x=x_2019)"
   ]
  },
  {
   "cell_type": "code",
   "execution_count": 10,
   "metadata": {},
   "outputs": [],
   "source": [
    "# np.savez(\"D:/npz_gray/y_2017.npz\",y=y_2017)\n",
    "# np.savez(\"D:/npz_gray/y_2018.npz\",y=y_2018)\n",
    "# np.savez(\"D:/npz_gray/y_2019.npz\",y=y_2019)"
   ]
  },
  {
   "cell_type": "code",
   "execution_count": 11,
   "metadata": {},
   "outputs": [
    {
     "data": {
      "text/plain": [
       "(962, 7, 24, 14, 3)"
      ]
     },
     "execution_count": 11,
     "metadata": {},
     "output_type": "execute_result"
    }
   ],
   "source": [
    "x=np.concatenate([x_2017,x_2018,x_2019])\n",
    "x.shape"
   ]
  },
  {
   "cell_type": "code",
   "execution_count": 12,
   "metadata": {},
   "outputs": [
    {
     "data": {
      "text/plain": [
       "(962, 7, 24, 14, 3)"
      ]
     },
     "execution_count": 12,
     "metadata": {},
     "output_type": "execute_result"
    }
   ],
   "source": [
    "y=np.concatenate([y_2017,y_2018,y_2019])\n",
    "y.shape"
   ]
  },
  {
   "cell_type": "code",
   "execution_count": 13,
   "metadata": {},
   "outputs": [],
   "source": [
    "# np.savez(\"D:/npz_gray/x_2017_2019.npz\",x=x)\n",
    "# np.savez(\"D:/npz_gray/y_2017_2019.npz\",y=y)"
   ]
  },
  {
   "cell_type": "code",
   "execution_count": 14,
   "metadata": {},
   "outputs": [
    {
     "data": {
      "text/plain": [
       "(962, 7, 24, 14, 3)"
      ]
     },
     "execution_count": 14,
     "metadata": {},
     "output_type": "execute_result"
    }
   ],
   "source": [
    "x.shape"
   ]
  },
  {
   "cell_type": "markdown",
   "metadata": {},
   "source": [
    "# 배치만들기"
   ]
  },
  {
   "cell_type": "code",
   "execution_count": 15,
   "metadata": {},
   "outputs": [],
   "source": [
    "# x=np.load(\"D:/npz_gray/x_2017_2019.npz\")['x']\n",
    "# y=np.load(\"D:/npz_gray/y_2017_2019.npz\")['y']"
   ]
  },
  {
   "cell_type": "code",
   "execution_count": 16,
   "metadata": {},
   "outputs": [
    {
     "name": "stdout",
     "output_type": "stream",
     "text": [
      "(962, 7, 24, 14, 3) (962, 7, 24, 14, 3)\n"
     ]
    }
   ],
   "source": [
    "print(x.shape,y.shape)"
   ]
  },
  {
   "cell_type": "code",
   "execution_count": 39,
   "metadata": {},
   "outputs": [
    {
     "data": {
      "text/plain": [
       "(19, 7, 24, 14, 1)"
      ]
     },
     "execution_count": 39,
     "metadata": {},
     "output_type": "execute_result"
    }
   ],
   "source": [
    "np.expand_dims(x[1:20,:,:,:,0],axis=-1).shape"
   ]
  },
  {
   "cell_type": "code",
   "execution_count": 22,
   "metadata": {},
   "outputs": [],
   "source": [
    "\n",
    "cnt=0\n",
    "for i in range(0,962,64):\n",
    "    np.savez(f\"D:/npz_gray_7_64_fix/batch/x/{cnt}.npz\",x=np.expand_dims(x[i:i+64,:,:,:,0],axis=-1))\n",
    "    np.savez(f\"D:/npz_gray_7_64_fix/batch/y/{cnt}.npz\",y=np.expand_dims(y[i:i+64,:,:,:,0],axis=-1))\n",
    "    cnt+=1\n",
    "    "
   ]
  },
  {
   "cell_type": "code",
   "execution_count": 24,
   "metadata": {},
   "outputs": [
    {
     "data": {
      "text/plain": [
       "(64, 7, 24, 14, 1)"
      ]
     },
     "execution_count": 24,
     "metadata": {},
     "output_type": "execute_result"
    }
   ],
   "source": [
    "dfsg=np.load(f\"D:/npz_gray_7_64_fix/batch/y/{2}.npz\")\n",
    "dfsg=dfsg['y']\n",
    "dfsg.shape"
   ]
  },
  {
   "cell_type": "code",
   "execution_count": 25,
   "metadata": {},
   "outputs": [
    {
     "name": "stderr",
     "output_type": "stream",
     "text": [
      "C:\\Users\\test\\AppData\\Local\\Temp/ipykernel_25712/3199302477.py:18: VisibleDeprecationWarning: Creating an ndarray from ragged nested sequences (which is a list-or-tuple of lists-or-tuples-or ndarrays with different lengths or shapes) is deprecated. If you meant to do this, you must specify 'dtype=object' when creating the ndarray.\n",
      "  x_2020=np.array(x_2020)\n"
     ]
    },
    {
     "name": "stdout",
     "output_type": "stream",
     "text": [
      "175에서 오류\n"
     ]
    }
   ],
   "source": [
    "x_2020=[]\n",
    "cnt=0\n",
    "for i in range(0,len(indexs_2020)):\n",
    "    if i==len(indexs_2020)-7:\n",
    "        break\n",
    "    data=[]\n",
    "    for v in indexs_2020[i:i+7]:\n",
    "        \n",
    "        img=Image.open(path+v).convert(\"RGB\")\n",
    "        num_img = np.array(img)\n",
    "        num_img= num_img / 255\n",
    "        #gray일때 dimension추가\n",
    "        # num_img= np.expand_dims(num_img,axis=-1)\n",
    "        data.append(num_img)\n",
    "    x_2020.append(data)\n",
    "    if (i+1)%16==0:\n",
    "        try:\n",
    "            x_2020=np.array(x_2020)\n",
    "            np.savez(f\"D:/npz_gray_7_64_fix/2020/{cnt}.npz\",np.expand_dims(x[i:i+64,:,:,:,0],axis=-1))\n",
    "            cnt+=1\n",
    "        except:\n",
    "            print(f\"{i}에서 오류\")\n",
    "        x_2020=[]\n",
    "        "
   ]
  },
  {
   "cell_type": "code",
   "execution_count": null,
   "metadata": {},
   "outputs": [],
   "source": []
  }
 ],
 "metadata": {
  "interpreter": {
   "hash": "1f2f07b9f7d5bed60c004f4cd3de358c3e4a13a9414f2e3827565844202afde0"
  },
  "kernelspec": {
   "display_name": "Python 3.8.11 64-bit ('convlnote': conda)",
   "name": "python3"
  },
  "language_info": {
   "codemirror_mode": {
    "name": "ipython",
    "version": 3
   },
   "file_extension": ".py",
   "mimetype": "text/x-python",
   "name": "python",
   "nbconvert_exporter": "python",
   "pygments_lexer": "ipython3",
   "version": "3.8.11"
  }
 },
 "nbformat": 4,
 "nbformat_minor": 4
}
